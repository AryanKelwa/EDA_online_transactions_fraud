{
 "cells": [
  {
   "cell_type": "code",
   "execution_count": 1,
   "id": "82c34933-4f3f-44f9-ae81-46fb022da46a",
   "metadata": {},
   "outputs": [],
   "source": [
    "import pandas as pd"
   ]
  },
  {
   "cell_type": "code",
   "execution_count": 2,
   "id": "15b20b01-7cce-4316-8da7-22bf372023c5",
   "metadata": {},
   "outputs": [],
   "source": [
    "import matplotlib.pyplot as plt\n",
    "import seaborn as sns"
   ]
  },
  {
   "cell_type": "code",
   "execution_count": 4,
   "id": "9d9a0fe4-3e86-44fb-9cb4-f45a7272ea4e",
   "metadata": {},
   "outputs": [],
   "source": [
    "# getting the csv file\n",
    "\n",
    "df=pd.read_csv('./datasets/onlinefraud.csv')"
   ]
  },
  {
   "cell_type": "code",
   "execution_count": 5,
   "id": "b00d689b-e0b2-4eb9-8925-f1e4865908f8",
   "metadata": {},
   "outputs": [
    {
     "data": {
      "text/html": [
       "<div>\n",
       "<style scoped>\n",
       "    .dataframe tbody tr th:only-of-type {\n",
       "        vertical-align: middle;\n",
       "    }\n",
       "\n",
       "    .dataframe tbody tr th {\n",
       "        vertical-align: top;\n",
       "    }\n",
       "\n",
       "    .dataframe thead th {\n",
       "        text-align: right;\n",
       "    }\n",
       "</style>\n",
       "<table border=\"1\" class=\"dataframe\">\n",
       "  <thead>\n",
       "    <tr style=\"text-align: right;\">\n",
       "      <th></th>\n",
       "      <th>step</th>\n",
       "      <th>type</th>\n",
       "      <th>amount</th>\n",
       "      <th>nameOrig</th>\n",
       "      <th>oldbalanceOrg</th>\n",
       "      <th>newbalanceOrig</th>\n",
       "      <th>nameDest</th>\n",
       "      <th>oldbalanceDest</th>\n",
       "      <th>newbalanceDest</th>\n",
       "      <th>isFraud</th>\n",
       "      <th>isFlaggedFraud</th>\n",
       "    </tr>\n",
       "  </thead>\n",
       "  <tbody>\n",
       "    <tr>\n",
       "      <th>0</th>\n",
       "      <td>1</td>\n",
       "      <td>PAYMENT</td>\n",
       "      <td>9839.64</td>\n",
       "      <td>C1231006815</td>\n",
       "      <td>170136.0</td>\n",
       "      <td>160296.36</td>\n",
       "      <td>M1979787155</td>\n",
       "      <td>0.0</td>\n",
       "      <td>0.0</td>\n",
       "      <td>0</td>\n",
       "      <td>0</td>\n",
       "    </tr>\n",
       "    <tr>\n",
       "      <th>1</th>\n",
       "      <td>1</td>\n",
       "      <td>PAYMENT</td>\n",
       "      <td>1864.28</td>\n",
       "      <td>C1666544295</td>\n",
       "      <td>21249.0</td>\n",
       "      <td>19384.72</td>\n",
       "      <td>M2044282225</td>\n",
       "      <td>0.0</td>\n",
       "      <td>0.0</td>\n",
       "      <td>0</td>\n",
       "      <td>0</td>\n",
       "    </tr>\n",
       "    <tr>\n",
       "      <th>2</th>\n",
       "      <td>1</td>\n",
       "      <td>TRANSFER</td>\n",
       "      <td>181.00</td>\n",
       "      <td>C1305486145</td>\n",
       "      <td>181.0</td>\n",
       "      <td>0.00</td>\n",
       "      <td>C553264065</td>\n",
       "      <td>0.0</td>\n",
       "      <td>0.0</td>\n",
       "      <td>1</td>\n",
       "      <td>0</td>\n",
       "    </tr>\n",
       "    <tr>\n",
       "      <th>3</th>\n",
       "      <td>1</td>\n",
       "      <td>CASH_OUT</td>\n",
       "      <td>181.00</td>\n",
       "      <td>C840083671</td>\n",
       "      <td>181.0</td>\n",
       "      <td>0.00</td>\n",
       "      <td>C38997010</td>\n",
       "      <td>21182.0</td>\n",
       "      <td>0.0</td>\n",
       "      <td>1</td>\n",
       "      <td>0</td>\n",
       "    </tr>\n",
       "    <tr>\n",
       "      <th>4</th>\n",
       "      <td>1</td>\n",
       "      <td>PAYMENT</td>\n",
       "      <td>11668.14</td>\n",
       "      <td>C2048537720</td>\n",
       "      <td>41554.0</td>\n",
       "      <td>29885.86</td>\n",
       "      <td>M1230701703</td>\n",
       "      <td>0.0</td>\n",
       "      <td>0.0</td>\n",
       "      <td>0</td>\n",
       "      <td>0</td>\n",
       "    </tr>\n",
       "  </tbody>\n",
       "</table>\n",
       "</div>"
      ],
      "text/plain": [
       "   step      type    amount     nameOrig  oldbalanceOrg  newbalanceOrig  \\\n",
       "0     1   PAYMENT   9839.64  C1231006815       170136.0       160296.36   \n",
       "1     1   PAYMENT   1864.28  C1666544295        21249.0        19384.72   \n",
       "2     1  TRANSFER    181.00  C1305486145          181.0            0.00   \n",
       "3     1  CASH_OUT    181.00   C840083671          181.0            0.00   \n",
       "4     1   PAYMENT  11668.14  C2048537720        41554.0        29885.86   \n",
       "\n",
       "      nameDest  oldbalanceDest  newbalanceDest  isFraud  isFlaggedFraud  \n",
       "0  M1979787155             0.0             0.0        0               0  \n",
       "1  M2044282225             0.0             0.0        0               0  \n",
       "2   C553264065             0.0             0.0        1               0  \n",
       "3    C38997010         21182.0             0.0        1               0  \n",
       "4  M1230701703             0.0             0.0        0               0  "
      ]
     },
     "execution_count": 5,
     "metadata": {},
     "output_type": "execute_result"
    }
   ],
   "source": [
    "df.head()"
   ]
  },
  {
   "cell_type": "code",
   "execution_count": 6,
   "id": "5e1fa827-a1c0-441b-9586-4962ff195bce",
   "metadata": {},
   "outputs": [
    {
     "data": {
      "text/plain": [
       "(6362620, 11)"
      ]
     },
     "execution_count": 6,
     "metadata": {},
     "output_type": "execute_result"
    }
   ],
   "source": [
    "#shape of the data\n",
    "df.shape"
   ]
  },
  {
   "cell_type": "code",
   "execution_count": 7,
   "id": "2bc7a267-212b-4f00-a740-5fd8ed681da6",
   "metadata": {},
   "outputs": [
    {
     "data": {
      "text/plain": [
       "Index(['step', 'type', 'amount', 'nameOrig', 'oldbalanceOrg', 'newbalanceOrig',\n",
       "       'nameDest', 'oldbalanceDest', 'newbalanceDest', 'isFraud',\n",
       "       'isFlaggedFraud'],\n",
       "      dtype='object')"
      ]
     },
     "execution_count": 7,
     "metadata": {},
     "output_type": "execute_result"
    }
   ],
   "source": [
    "#columns in dataset\n",
    "\n",
    "df.columns"
   ]
  },
  {
   "cell_type": "markdown",
   "id": "1b7240fb-4f46-4426-88fe-42b1cb7594ed",
   "metadata": {},
   "source": [
    "\n",
    "\n",
    "\n",
    "Columns in dataset¶\n",
    "\n",
    "\n",
    "step: represents a unit of time where 1 step equals 1 hour\n",
    "\n",
    "type: type of online transaction\n",
    "\n",
    "amount: the amount of the transaction\n",
    "\n",
    "nameOrig: customer starting the transaction\n",
    "\n",
    "oldbalanceOrg: balance before the transaction\n",
    "\n",
    "newbalanceOrig: balance after the transaction\n",
    "\n",
    "nameDest: recipient of the transaction\n",
    "\n",
    "oldbalanceDest: initial balance of recipient before the transaction\n",
    "\n",
    "newbalanceDest: the new balance of recipient after the transaction\n",
    "\n",
    "isFraud: fraud transaction"
   ]
  },
  {
   "cell_type": "code",
   "execution_count": 8,
   "id": "3cadb1b4-9b76-4ef1-8e83-bf6e6d188bc9",
   "metadata": {},
   "outputs": [
    {
     "data": {
      "text/html": [
       "<div>\n",
       "<style scoped>\n",
       "    .dataframe tbody tr th:only-of-type {\n",
       "        vertical-align: middle;\n",
       "    }\n",
       "\n",
       "    .dataframe tbody tr th {\n",
       "        vertical-align: top;\n",
       "    }\n",
       "\n",
       "    .dataframe thead th {\n",
       "        text-align: right;\n",
       "    }\n",
       "</style>\n",
       "<table border=\"1\" class=\"dataframe\">\n",
       "  <thead>\n",
       "    <tr style=\"text-align: right;\">\n",
       "      <th></th>\n",
       "      <th>step</th>\n",
       "      <th>type</th>\n",
       "      <th>amount</th>\n",
       "      <th>nameOrig</th>\n",
       "      <th>oldbalanceOrg</th>\n",
       "      <th>newbalanceOrig</th>\n",
       "      <th>nameDest</th>\n",
       "      <th>oldbalanceDest</th>\n",
       "      <th>newbalanceDest</th>\n",
       "      <th>isFraud</th>\n",
       "      <th>isFlaggedFraud</th>\n",
       "    </tr>\n",
       "  </thead>\n",
       "  <tbody>\n",
       "    <tr>\n",
       "      <th>0</th>\n",
       "      <td>1</td>\n",
       "      <td>PAYMENT</td>\n",
       "      <td>9839.64</td>\n",
       "      <td>C1231006815</td>\n",
       "      <td>170136.0</td>\n",
       "      <td>160296.36</td>\n",
       "      <td>M1979787155</td>\n",
       "      <td>0.0</td>\n",
       "      <td>0.0</td>\n",
       "      <td>0</td>\n",
       "      <td>0</td>\n",
       "    </tr>\n",
       "    <tr>\n",
       "      <th>1</th>\n",
       "      <td>1</td>\n",
       "      <td>PAYMENT</td>\n",
       "      <td>1864.28</td>\n",
       "      <td>C1666544295</td>\n",
       "      <td>21249.0</td>\n",
       "      <td>19384.72</td>\n",
       "      <td>M2044282225</td>\n",
       "      <td>0.0</td>\n",
       "      <td>0.0</td>\n",
       "      <td>0</td>\n",
       "      <td>0</td>\n",
       "    </tr>\n",
       "    <tr>\n",
       "      <th>2</th>\n",
       "      <td>1</td>\n",
       "      <td>TRANSFER</td>\n",
       "      <td>181.00</td>\n",
       "      <td>C1305486145</td>\n",
       "      <td>181.0</td>\n",
       "      <td>0.00</td>\n",
       "      <td>C553264065</td>\n",
       "      <td>0.0</td>\n",
       "      <td>0.0</td>\n",
       "      <td>1</td>\n",
       "      <td>0</td>\n",
       "    </tr>\n",
       "    <tr>\n",
       "      <th>3</th>\n",
       "      <td>1</td>\n",
       "      <td>CASH_OUT</td>\n",
       "      <td>181.00</td>\n",
       "      <td>C840083671</td>\n",
       "      <td>181.0</td>\n",
       "      <td>0.00</td>\n",
       "      <td>C38997010</td>\n",
       "      <td>21182.0</td>\n",
       "      <td>0.0</td>\n",
       "      <td>1</td>\n",
       "      <td>0</td>\n",
       "    </tr>\n",
       "    <tr>\n",
       "      <th>4</th>\n",
       "      <td>1</td>\n",
       "      <td>PAYMENT</td>\n",
       "      <td>11668.14</td>\n",
       "      <td>C2048537720</td>\n",
       "      <td>41554.0</td>\n",
       "      <td>29885.86</td>\n",
       "      <td>M1230701703</td>\n",
       "      <td>0.0</td>\n",
       "      <td>0.0</td>\n",
       "      <td>0</td>\n",
       "      <td>0</td>\n",
       "    </tr>\n",
       "  </tbody>\n",
       "</table>\n",
       "</div>"
      ],
      "text/plain": [
       "   step      type    amount     nameOrig  oldbalanceOrg  newbalanceOrig  \\\n",
       "0     1   PAYMENT   9839.64  C1231006815       170136.0       160296.36   \n",
       "1     1   PAYMENT   1864.28  C1666544295        21249.0        19384.72   \n",
       "2     1  TRANSFER    181.00  C1305486145          181.0            0.00   \n",
       "3     1  CASH_OUT    181.00   C840083671          181.0            0.00   \n",
       "4     1   PAYMENT  11668.14  C2048537720        41554.0        29885.86   \n",
       "\n",
       "      nameDest  oldbalanceDest  newbalanceDest  isFraud  isFlaggedFraud  \n",
       "0  M1979787155             0.0             0.0        0               0  \n",
       "1  M2044282225             0.0             0.0        0               0  \n",
       "2   C553264065             0.0             0.0        1               0  \n",
       "3    C38997010         21182.0             0.0        1               0  \n",
       "4  M1230701703             0.0             0.0        0               0  "
      ]
     },
     "execution_count": 8,
     "metadata": {},
     "output_type": "execute_result"
    }
   ],
   "source": [
    "df.head()"
   ]
  },
  {
   "cell_type": "code",
   "execution_count": 11,
   "id": "627cfeba-7e1b-4eea-bba4-d418e89d08d2",
   "metadata": {},
   "outputs": [
    {
     "data": {
      "text/html": [
       "<div>\n",
       "<style scoped>\n",
       "    .dataframe tbody tr th:only-of-type {\n",
       "        vertical-align: middle;\n",
       "    }\n",
       "\n",
       "    .dataframe tbody tr th {\n",
       "        vertical-align: top;\n",
       "    }\n",
       "\n",
       "    .dataframe thead th {\n",
       "        text-align: right;\n",
       "    }\n",
       "</style>\n",
       "<table border=\"1\" class=\"dataframe\">\n",
       "  <thead>\n",
       "    <tr style=\"text-align: right;\">\n",
       "      <th></th>\n",
       "      <th>step</th>\n",
       "      <th>type</th>\n",
       "      <th>amount</th>\n",
       "      <th>nameOrig</th>\n",
       "      <th>oldbalanceOrg</th>\n",
       "      <th>newbalanceOrig</th>\n",
       "      <th>nameDest</th>\n",
       "      <th>oldbalanceDest</th>\n",
       "      <th>newbalanceDest</th>\n",
       "      <th>isFraud</th>\n",
       "      <th>isFlaggedFraud</th>\n",
       "    </tr>\n",
       "  </thead>\n",
       "  <tbody>\n",
       "    <tr>\n",
       "      <th>2</th>\n",
       "      <td>1</td>\n",
       "      <td>TRANSFER</td>\n",
       "      <td>181.00</td>\n",
       "      <td>C1305486145</td>\n",
       "      <td>181.00</td>\n",
       "      <td>0.0</td>\n",
       "      <td>C553264065</td>\n",
       "      <td>0.00</td>\n",
       "      <td>0.00</td>\n",
       "      <td>1</td>\n",
       "      <td>0</td>\n",
       "    </tr>\n",
       "    <tr>\n",
       "      <th>3</th>\n",
       "      <td>1</td>\n",
       "      <td>CASH_OUT</td>\n",
       "      <td>181.00</td>\n",
       "      <td>C840083671</td>\n",
       "      <td>181.00</td>\n",
       "      <td>0.0</td>\n",
       "      <td>C38997010</td>\n",
       "      <td>21182.00</td>\n",
       "      <td>0.00</td>\n",
       "      <td>1</td>\n",
       "      <td>0</td>\n",
       "    </tr>\n",
       "    <tr>\n",
       "      <th>251</th>\n",
       "      <td>1</td>\n",
       "      <td>TRANSFER</td>\n",
       "      <td>2806.00</td>\n",
       "      <td>C1420196421</td>\n",
       "      <td>2806.00</td>\n",
       "      <td>0.0</td>\n",
       "      <td>C972765878</td>\n",
       "      <td>0.00</td>\n",
       "      <td>0.00</td>\n",
       "      <td>1</td>\n",
       "      <td>0</td>\n",
       "    </tr>\n",
       "    <tr>\n",
       "      <th>252</th>\n",
       "      <td>1</td>\n",
       "      <td>CASH_OUT</td>\n",
       "      <td>2806.00</td>\n",
       "      <td>C2101527076</td>\n",
       "      <td>2806.00</td>\n",
       "      <td>0.0</td>\n",
       "      <td>C1007251739</td>\n",
       "      <td>26202.00</td>\n",
       "      <td>0.00</td>\n",
       "      <td>1</td>\n",
       "      <td>0</td>\n",
       "    </tr>\n",
       "    <tr>\n",
       "      <th>680</th>\n",
       "      <td>1</td>\n",
       "      <td>TRANSFER</td>\n",
       "      <td>20128.00</td>\n",
       "      <td>C137533655</td>\n",
       "      <td>20128.00</td>\n",
       "      <td>0.0</td>\n",
       "      <td>C1848415041</td>\n",
       "      <td>0.00</td>\n",
       "      <td>0.00</td>\n",
       "      <td>1</td>\n",
       "      <td>0</td>\n",
       "    </tr>\n",
       "    <tr>\n",
       "      <th>...</th>\n",
       "      <td>...</td>\n",
       "      <td>...</td>\n",
       "      <td>...</td>\n",
       "      <td>...</td>\n",
       "      <td>...</td>\n",
       "      <td>...</td>\n",
       "      <td>...</td>\n",
       "      <td>...</td>\n",
       "      <td>...</td>\n",
       "      <td>...</td>\n",
       "      <td>...</td>\n",
       "    </tr>\n",
       "    <tr>\n",
       "      <th>6362615</th>\n",
       "      <td>743</td>\n",
       "      <td>CASH_OUT</td>\n",
       "      <td>339682.13</td>\n",
       "      <td>C786484425</td>\n",
       "      <td>339682.13</td>\n",
       "      <td>0.0</td>\n",
       "      <td>C776919290</td>\n",
       "      <td>0.00</td>\n",
       "      <td>339682.13</td>\n",
       "      <td>1</td>\n",
       "      <td>0</td>\n",
       "    </tr>\n",
       "    <tr>\n",
       "      <th>6362616</th>\n",
       "      <td>743</td>\n",
       "      <td>TRANSFER</td>\n",
       "      <td>6311409.28</td>\n",
       "      <td>C1529008245</td>\n",
       "      <td>6311409.28</td>\n",
       "      <td>0.0</td>\n",
       "      <td>C1881841831</td>\n",
       "      <td>0.00</td>\n",
       "      <td>0.00</td>\n",
       "      <td>1</td>\n",
       "      <td>0</td>\n",
       "    </tr>\n",
       "    <tr>\n",
       "      <th>6362617</th>\n",
       "      <td>743</td>\n",
       "      <td>CASH_OUT</td>\n",
       "      <td>6311409.28</td>\n",
       "      <td>C1162922333</td>\n",
       "      <td>6311409.28</td>\n",
       "      <td>0.0</td>\n",
       "      <td>C1365125890</td>\n",
       "      <td>68488.84</td>\n",
       "      <td>6379898.11</td>\n",
       "      <td>1</td>\n",
       "      <td>0</td>\n",
       "    </tr>\n",
       "    <tr>\n",
       "      <th>6362618</th>\n",
       "      <td>743</td>\n",
       "      <td>TRANSFER</td>\n",
       "      <td>850002.52</td>\n",
       "      <td>C1685995037</td>\n",
       "      <td>850002.52</td>\n",
       "      <td>0.0</td>\n",
       "      <td>C2080388513</td>\n",
       "      <td>0.00</td>\n",
       "      <td>0.00</td>\n",
       "      <td>1</td>\n",
       "      <td>0</td>\n",
       "    </tr>\n",
       "    <tr>\n",
       "      <th>6362619</th>\n",
       "      <td>743</td>\n",
       "      <td>CASH_OUT</td>\n",
       "      <td>850002.52</td>\n",
       "      <td>C1280323807</td>\n",
       "      <td>850002.52</td>\n",
       "      <td>0.0</td>\n",
       "      <td>C873221189</td>\n",
       "      <td>6510099.11</td>\n",
       "      <td>7360101.63</td>\n",
       "      <td>1</td>\n",
       "      <td>0</td>\n",
       "    </tr>\n",
       "  </tbody>\n",
       "</table>\n",
       "<p>8197 rows × 11 columns</p>\n",
       "</div>"
      ],
      "text/plain": [
       "         step      type      amount     nameOrig  oldbalanceOrg  \\\n",
       "2           1  TRANSFER      181.00  C1305486145         181.00   \n",
       "3           1  CASH_OUT      181.00   C840083671         181.00   \n",
       "251         1  TRANSFER     2806.00  C1420196421        2806.00   \n",
       "252         1  CASH_OUT     2806.00  C2101527076        2806.00   \n",
       "680         1  TRANSFER    20128.00   C137533655       20128.00   \n",
       "...       ...       ...         ...          ...            ...   \n",
       "6362615   743  CASH_OUT   339682.13   C786484425      339682.13   \n",
       "6362616   743  TRANSFER  6311409.28  C1529008245     6311409.28   \n",
       "6362617   743  CASH_OUT  6311409.28  C1162922333     6311409.28   \n",
       "6362618   743  TRANSFER   850002.52  C1685995037      850002.52   \n",
       "6362619   743  CASH_OUT   850002.52  C1280323807      850002.52   \n",
       "\n",
       "         newbalanceOrig     nameDest  oldbalanceDest  newbalanceDest  isFraud  \\\n",
       "2                   0.0   C553264065            0.00            0.00        1   \n",
       "3                   0.0    C38997010        21182.00            0.00        1   \n",
       "251                 0.0   C972765878            0.00            0.00        1   \n",
       "252                 0.0  C1007251739        26202.00            0.00        1   \n",
       "680                 0.0  C1848415041            0.00            0.00        1   \n",
       "...                 ...          ...             ...             ...      ...   \n",
       "6362615             0.0   C776919290            0.00       339682.13        1   \n",
       "6362616             0.0  C1881841831            0.00            0.00        1   \n",
       "6362617             0.0  C1365125890        68488.84      6379898.11        1   \n",
       "6362618             0.0  C2080388513            0.00            0.00        1   \n",
       "6362619             0.0   C873221189      6510099.11      7360101.63        1   \n",
       "\n",
       "         isFlaggedFraud  \n",
       "2                     0  \n",
       "3                     0  \n",
       "251                   0  \n",
       "252                   0  \n",
       "680                   0  \n",
       "...                 ...  \n",
       "6362615               0  \n",
       "6362616               0  \n",
       "6362617               0  \n",
       "6362618               0  \n",
       "6362619               0  \n",
       "\n",
       "[8197 rows x 11 columns]"
      ]
     },
     "execution_count": 11,
     "metadata": {},
     "output_type": "execute_result"
    }
   ],
   "source": [
    "df[df['isFraud']!=df['isFlaggedFraud']]\n",
    "# total frauds in the data"
   ]
  },
  {
   "cell_type": "code",
   "execution_count": 14,
   "id": "2873ba9b-168a-43ab-8e02-fcf0a9faa5b1",
   "metadata": {},
   "outputs": [
    {
     "data": {
      "text/html": [
       "<div>\n",
       "<style scoped>\n",
       "    .dataframe tbody tr th:only-of-type {\n",
       "        vertical-align: middle;\n",
       "    }\n",
       "\n",
       "    .dataframe tbody tr th {\n",
       "        vertical-align: top;\n",
       "    }\n",
       "\n",
       "    .dataframe thead th {\n",
       "        text-align: right;\n",
       "    }\n",
       "</style>\n",
       "<table border=\"1\" class=\"dataframe\">\n",
       "  <thead>\n",
       "    <tr style=\"text-align: right;\">\n",
       "      <th></th>\n",
       "      <th>count</th>\n",
       "      <th>mean</th>\n",
       "      <th>std</th>\n",
       "      <th>min</th>\n",
       "      <th>25%</th>\n",
       "      <th>50%</th>\n",
       "      <th>75%</th>\n",
       "      <th>max</th>\n",
       "    </tr>\n",
       "  </thead>\n",
       "  <tbody>\n",
       "    <tr>\n",
       "      <th>step</th>\n",
       "      <td>6362620.0</td>\n",
       "      <td>2.433972e+02</td>\n",
       "      <td>1.423320e+02</td>\n",
       "      <td>1.0</td>\n",
       "      <td>156.00</td>\n",
       "      <td>239.000</td>\n",
       "      <td>3.350000e+02</td>\n",
       "      <td>7.430000e+02</td>\n",
       "    </tr>\n",
       "    <tr>\n",
       "      <th>amount</th>\n",
       "      <td>6362620.0</td>\n",
       "      <td>1.798619e+05</td>\n",
       "      <td>6.038582e+05</td>\n",
       "      <td>0.0</td>\n",
       "      <td>13389.57</td>\n",
       "      <td>74871.940</td>\n",
       "      <td>2.087215e+05</td>\n",
       "      <td>9.244552e+07</td>\n",
       "    </tr>\n",
       "    <tr>\n",
       "      <th>oldbalanceOrg</th>\n",
       "      <td>6362620.0</td>\n",
       "      <td>8.338831e+05</td>\n",
       "      <td>2.888243e+06</td>\n",
       "      <td>0.0</td>\n",
       "      <td>0.00</td>\n",
       "      <td>14208.000</td>\n",
       "      <td>1.073152e+05</td>\n",
       "      <td>5.958504e+07</td>\n",
       "    </tr>\n",
       "    <tr>\n",
       "      <th>newbalanceOrig</th>\n",
       "      <td>6362620.0</td>\n",
       "      <td>8.551137e+05</td>\n",
       "      <td>2.924049e+06</td>\n",
       "      <td>0.0</td>\n",
       "      <td>0.00</td>\n",
       "      <td>0.000</td>\n",
       "      <td>1.442584e+05</td>\n",
       "      <td>4.958504e+07</td>\n",
       "    </tr>\n",
       "    <tr>\n",
       "      <th>oldbalanceDest</th>\n",
       "      <td>6362620.0</td>\n",
       "      <td>1.100702e+06</td>\n",
       "      <td>3.399180e+06</td>\n",
       "      <td>0.0</td>\n",
       "      <td>0.00</td>\n",
       "      <td>132705.665</td>\n",
       "      <td>9.430367e+05</td>\n",
       "      <td>3.560159e+08</td>\n",
       "    </tr>\n",
       "    <tr>\n",
       "      <th>newbalanceDest</th>\n",
       "      <td>6362620.0</td>\n",
       "      <td>1.224996e+06</td>\n",
       "      <td>3.674129e+06</td>\n",
       "      <td>0.0</td>\n",
       "      <td>0.00</td>\n",
       "      <td>214661.440</td>\n",
       "      <td>1.111909e+06</td>\n",
       "      <td>3.561793e+08</td>\n",
       "    </tr>\n",
       "    <tr>\n",
       "      <th>isFraud</th>\n",
       "      <td>6362620.0</td>\n",
       "      <td>1.290820e-03</td>\n",
       "      <td>3.590480e-02</td>\n",
       "      <td>0.0</td>\n",
       "      <td>0.00</td>\n",
       "      <td>0.000</td>\n",
       "      <td>0.000000e+00</td>\n",
       "      <td>1.000000e+00</td>\n",
       "    </tr>\n",
       "    <tr>\n",
       "      <th>isFlaggedFraud</th>\n",
       "      <td>6362620.0</td>\n",
       "      <td>2.514687e-06</td>\n",
       "      <td>1.585775e-03</td>\n",
       "      <td>0.0</td>\n",
       "      <td>0.00</td>\n",
       "      <td>0.000</td>\n",
       "      <td>0.000000e+00</td>\n",
       "      <td>1.000000e+00</td>\n",
       "    </tr>\n",
       "  </tbody>\n",
       "</table>\n",
       "</div>"
      ],
      "text/plain": [
       "                    count          mean           std  min       25%  \\\n",
       "step            6362620.0  2.433972e+02  1.423320e+02  1.0    156.00   \n",
       "amount          6362620.0  1.798619e+05  6.038582e+05  0.0  13389.57   \n",
       "oldbalanceOrg   6362620.0  8.338831e+05  2.888243e+06  0.0      0.00   \n",
       "newbalanceOrig  6362620.0  8.551137e+05  2.924049e+06  0.0      0.00   \n",
       "oldbalanceDest  6362620.0  1.100702e+06  3.399180e+06  0.0      0.00   \n",
       "newbalanceDest  6362620.0  1.224996e+06  3.674129e+06  0.0      0.00   \n",
       "isFraud         6362620.0  1.290820e-03  3.590480e-02  0.0      0.00   \n",
       "isFlaggedFraud  6362620.0  2.514687e-06  1.585775e-03  0.0      0.00   \n",
       "\n",
       "                       50%           75%           max  \n",
       "step               239.000  3.350000e+02  7.430000e+02  \n",
       "amount           74871.940  2.087215e+05  9.244552e+07  \n",
       "oldbalanceOrg    14208.000  1.073152e+05  5.958504e+07  \n",
       "newbalanceOrig       0.000  1.442584e+05  4.958504e+07  \n",
       "oldbalanceDest  132705.665  9.430367e+05  3.560159e+08  \n",
       "newbalanceDest  214661.440  1.111909e+06  3.561793e+08  \n",
       "isFraud              0.000  0.000000e+00  1.000000e+00  \n",
       "isFlaggedFraud       0.000  0.000000e+00  1.000000e+00  "
      ]
     },
     "execution_count": 14,
     "metadata": {},
     "output_type": "execute_result"
    }
   ],
   "source": [
    "df.describe().T"
   ]
  },
  {
   "cell_type": "code",
   "execution_count": 15,
   "id": "0230f09d-9255-4f82-851c-a82faea1d2cc",
   "metadata": {},
   "outputs": [
    {
     "data": {
      "text/plain": [
       "step              0\n",
       "type              0\n",
       "amount            0\n",
       "nameOrig          0\n",
       "oldbalanceOrg     0\n",
       "newbalanceOrig    0\n",
       "nameDest          0\n",
       "oldbalanceDest    0\n",
       "newbalanceDest    0\n",
       "isFraud           0\n",
       "isFlaggedFraud    0\n",
       "dtype: int64"
      ]
     },
     "execution_count": 15,
     "metadata": {},
     "output_type": "execute_result"
    }
   ],
   "source": [
    "#checking for missing values\n",
    "\n",
    "df.isna().sum()"
   ]
  },
  {
   "cell_type": "code",
   "execution_count": null,
   "id": "cfa8256d-5bb6-476b-b2fd-51db50d49edf",
   "metadata": {},
   "outputs": [],
   "source": [
    "# its a good thing that there is no missing values"
   ]
  },
  {
   "cell_type": "markdown",
   "id": "029807d6-5bea-44b7-88ca-0c2a552f4979",
   "metadata": {},
   "source": [
    "checking for the few columns"
   ]
  },
  {
   "cell_type": "code",
   "execution_count": 16,
   "id": "2c6702da-c432-421f-83d6-9bda0cd6064a",
   "metadata": {},
   "outputs": [
    {
     "data": {
      "text/plain": [
       "nameOrig\n",
       "C1902386530    3\n",
       "C363736674     3\n",
       "C545315117     3\n",
       "C724452879     3\n",
       "C1784010646    3\n",
       "              ..\n",
       "C98968405      1\n",
       "C720209255     1\n",
       "C1567523029    1\n",
       "C644777639     1\n",
       "C1280323807    1\n",
       "Name: count, Length: 6353307, dtype: int64"
      ]
     },
     "execution_count": 16,
     "metadata": {},
     "output_type": "execute_result"
    }
   ],
   "source": [
    "df.nameOrig.value_counts()"
   ]
  },
  {
   "cell_type": "code",
   "execution_count": 19,
   "id": "d7be35a4-33d5-4435-b55b-08f2090f4b52",
   "metadata": {},
   "outputs": [
    {
     "data": {
      "text/plain": [
       "nameDest\n",
       "C1286084959     True\n",
       "C985934102      True\n",
       "C665576141      True\n",
       "C2083562754     True\n",
       "C248609774      True\n",
       "               ...  \n",
       "M1470027725    False\n",
       "M1330329251    False\n",
       "M1784358659    False\n",
       "M2081431099    False\n",
       "C2080388513    False\n",
       "Name: count, Length: 2722362, dtype: bool"
      ]
     },
     "execution_count": 19,
     "metadata": {},
     "output_type": "execute_result"
    }
   ],
   "source": [
    "df.nameDest.value_counts()>100"
   ]
  },
  {
   "cell_type": "code",
   "execution_count": 20,
   "id": "1c1f7a57-96de-4556-9ea0-d96fb3417aef",
   "metadata": {},
   "outputs": [
    {
     "data": {
      "text/plain": [
       "type\n",
       "CASH_OUT    2237500\n",
       "PAYMENT     2151495\n",
       "CASH_IN     1399284\n",
       "TRANSFER     532909\n",
       "DEBIT         41432\n",
       "Name: count, dtype: int64"
      ]
     },
     "execution_count": 20,
     "metadata": {},
     "output_type": "execute_result"
    }
   ],
   "source": [
    "df.type.value_counts()"
   ]
  },
  {
   "cell_type": "code",
   "execution_count": 21,
   "id": "3d8f2fba-66b0-4e09-9325-b382e75040de",
   "metadata": {},
   "outputs": [
    {
     "data": {
      "text/plain": [
       "isFlaggedFraud\n",
       "0    6362604\n",
       "1         16\n",
       "Name: count, dtype: int64"
      ]
     },
     "execution_count": 21,
     "metadata": {},
     "output_type": "execute_result"
    }
   ],
   "source": [
    "df.isFlaggedFraud.value_counts()"
   ]
  },
  {
   "cell_type": "code",
   "execution_count": 32,
   "id": "19344ce9-43a8-435b-a079-98c2ce77a643",
   "metadata": {},
   "outputs": [
    {
     "data": {
      "text/plain": [
       "0           170136.00\n",
       "1            21249.00\n",
       "2              181.00\n",
       "3              181.00\n",
       "4            41554.00\n",
       "              ...    \n",
       "6362615     339682.13\n",
       "6362616    6311409.28\n",
       "6362617    6311409.28\n",
       "6362618     850002.52\n",
       "6362619     850002.52\n",
       "Name: oldbalanceOrg, Length: 6362620, dtype: float64"
      ]
     },
     "execution_count": 32,
     "metadata": {},
     "output_type": "execute_result"
    }
   ],
   "source": [
    "df.oldbalanceOrg"
   ]
  },
  {
   "cell_type": "markdown",
   "id": "d2eb6a58-c762-4d25-bff2-a8b22727e88a",
   "metadata": {},
   "source": [
    "# Exploratory data analysis"
   ]
  },
  {
   "cell_type": "markdown",
   "id": "03745816-222a-474e-b173-28e96e7dd064",
   "metadata": {},
   "source": [
    "### Univariate analysis\n",
    "it is used to analyze the data of a single variable"
   ]
  },
  {
   "cell_type": "code",
   "execution_count": 22,
   "id": "6abd5b11-6f39-477e-b89d-7153c2af3f4f",
   "metadata": {},
   "outputs": [
    {
     "name": "stdout",
     "output_type": "stream",
     "text": [
      "<class 'pandas.core.frame.DataFrame'>\n",
      "RangeIndex: 6362620 entries, 0 to 6362619\n",
      "Data columns (total 11 columns):\n",
      " #   Column          Dtype  \n",
      "---  ------          -----  \n",
      " 0   step            int64  \n",
      " 1   type            object \n",
      " 2   amount          float64\n",
      " 3   nameOrig        object \n",
      " 4   oldbalanceOrg   float64\n",
      " 5   newbalanceOrig  float64\n",
      " 6   nameDest        object \n",
      " 7   oldbalanceDest  float64\n",
      " 8   newbalanceDest  float64\n",
      " 9   isFraud         int64  \n",
      " 10  isFlaggedFraud  int64  \n",
      "dtypes: float64(5), int64(3), object(3)\n",
      "memory usage: 534.0+ MB\n"
     ]
    }
   ],
   "source": [
    "df.info()"
   ]
  },
  {
   "cell_type": "code",
   "execution_count": 30,
   "id": "4e6a81ca-54af-47bc-8389-53b06c0fc948",
   "metadata": {},
   "outputs": [
    {
     "data": {
      "text/plain": [
       "<Axes: xlabel='step', ylabel='Count'>"
      ]
     },
     "execution_count": 30,
     "metadata": {},
     "output_type": "execute_result"
    },
    {
     "data": {
      "image/png": "[encoded data removed]",
      "text/plain": [
       "<Figure size 640x480 with 1 Axes>"
      ]
     },
     "metadata": {},
     "output_type": "display_data"
    }
   ],
   "source": [
    "df.step\n",
    "sns.histplot(df.step,bins=5)"
   ]
  },
  {
   "cell_type": "code",
   "execution_count": 33,
   "id": "c2d44282-cc01-4fb5-85c9-d1749642939a",
   "metadata": {},
   "outputs": [
    {
     "data": {
      "image/png": "[encoded data removed]",
      "text/plain": [
       "<Figure size 640x480 with 1 Axes>"
      ]
     },
     "metadata": {},
     "output_type": "display_data"
    },
    {
     "data": {
      "image/png": "[encoded data removed]",
      "text/plain": [
       "<Figure size 1200x600 with 1 Axes>"
      ]
     },
     "metadata": {},
     "output_type": "display_data"
    },
    {
     "data": {
      "image/png": "[encoded data removed]",
      "text/plain": [
       "<Figure size 1200x600 with 1 Axes>"
      ]
     },
     "metadata": {},
     "output_type": "display_data"
    },
    {
     "data": {
      "image/png": "[encoded data removed]",
      "text/plain": [
       "<Figure size 1200x600 with 1 Axes>"
      ]
     },
     "metadata": {},
     "output_type": "display_data"
    },
    {
     "data": {
      "image/png": "[encoded data removed]",
      "text/plain": [
       "<Figure size 1200x600 with 1 Axes>"
      ]
     },
     "metadata": {},
     "output_type": "display_data"
    },
    {
     "data": {
      "image/png": "[encoded data removed]",
      "text/plain": [
       "<Figure size 1200x600 with 1 Axes>"
      ]
     },
     "metadata": {},
     "output_type": "display_data"
    },
    {
     "data": {
      "image/png": "[encoded data removed]",
      "text/plain": [
       "<Figure size 1200x600 with 1 Axes>"
      ]
     },
     "metadata": {},
     "output_type": "display_data"
    }
   ],
   "source": [
    "features=['step','amount','oldbalanceOrg','newbalanceOrig','oldbalanceDest','newbalanceDest']\n",
    "\n",
    "for feature in features:\n",
    "    plt.xlabel(feature)\n",
    "    plt.figure(figsize=(12,6))\n",
    "    sns.histplot(df[feature],bins=5,legend=True)"
   ]
  },
  {
   "cell_type": "markdown",
   "id": "40f26f60-db59-409d-8c2a-89ae369a25bd",
   "metadata": {},
   "source": [
    "We have seen some outliers in the dataset lets work on it"
   ]
  },
  {
   "cell_type": "code",
   "execution_count": null,
   "id": "28b7a7f6-2aa5-4242-a34d-529f16b34bbb",
   "metadata": {},
   "outputs": [],
   "source": [
    "We will use the quantile based flooring and the capping of these columns\n",
    "\n",
    "Capping : Capping is replacing all higher side values exceeding a certain theoretical maximum or upper control limit (UCL) by the UCL value. \n",
    "            Here we'll do 90th percentile for higher values. \n",
    "\n",
    "Flooring : Flooring is replacing all values falling below a certain theoretical minimum or lower control limit (UCL) by the LCL value. \n",
    "            Here we'll do 10th percentile for lower values.\n",
    "\n"
   ]
  },
  {
   "cell_type": "code",
   "execution_count": 37,
   "id": "92023b77-a75e-436e-9871-fb8d6e21aff9",
   "metadata": {},
   "outputs": [
    {
     "name": "stdout",
     "output_type": "stream",
     "text": [
      "amount\n",
      "4501.3\n",
      "365423.30900000007\n",
      "\n",
      "\n",
      "oldbalanceOrg\n",
      "0.0\n",
      "1822508.289000007\n",
      "\n",
      "\n",
      "newbalanceOrig\n",
      "0.0\n",
      "1970344.7930000005\n",
      "\n",
      "\n",
      "oldbalanceDest\n",
      "0.0\n",
      "2914266.6690000016\n",
      "\n",
      "\n",
      "newbalanceDest\n",
      "0.0\n",
      "3194869.671000002\n",
      "\n",
      "\n"
     ]
    }
   ],
   "source": [
    "features=['amount','oldbalanceOrg','newbalanceOrig','oldbalanceDest','newbalanceDest']\n",
    "\n",
    "for feature in features:\n",
    "    print(feature)\n",
    "    print(df[feature].quantile(0.10))\n",
    "    print(df[feature].quantile(0.90))\n",
    "    print('\\n')"
   ]
  },
  {
   "cell_type": "code",
   "execution_count": 40,
   "id": "b9aeaf4d-5254-4862-b2b6-d601725fa252",
   "metadata": {},
   "outputs": [
    {
     "name": "stdout",
     "output_type": "stream",
     "text": [
      "amount\n",
      "0.8046460444556197\n",
      "\n",
      "\n",
      "oldbalanceOrg\n",
      "2.249361299814406\n",
      "\n",
      "\n",
      "newbalanceOrig\n",
      "2.2262847493216786\n",
      "\n",
      "\n",
      "oldbalanceDest\n",
      "1.4173123924260833\n",
      "\n",
      "\n",
      "newbalanceDest\n",
      "1.3593024983493058\n",
      "\n",
      "\n"
     ]
    }
   ],
   "source": [
    "import numpy as np\n",
    "for feature in features:\n",
    "    lower=df[feature].quantile(0.10)\n",
    "    upper=df[feature].quantile(0.90)\n",
    "    df[feature]=np.where(df[feature]<lower,lower,df[feature])\n",
    "    df[feature]=np.where(df[feature]>upper,upper,df[feature])\n",
    "    print(feature)\n",
    "    print(df[feature].skew())\n",
    "    print('\\n')\n",
    "\n",
    "\n"
   ]
  },
  {
   "cell_type": "markdown",
   "id": "6610eb74-bc2d-4790-9374-a8c89c37650f",
   "metadata": {},
   "source": [
    "Now we will take a look after removing a outliers"
   ]
  },
  {
   "cell_type": "code",
   "execution_count": 44,
   "id": "76f54964-bfad-4507-8525-221261a15bf7",
   "metadata": {},
   "outputs": [
    {
     "data": {
      "image/png": "[encoded data removed]",
      "text/plain": [
       "<Figure size 1200x600 with 1 Axes>"
      ]
     },
     "metadata": {},
     "output_type": "display_data"
    },
    {
     "data": {
      "image/png": "[encoded data removed]",
      "text/plain": [
       "<Figure size 1200x600 with 1 Axes>"
      ]
     },
     "metadata": {},
     "output_type": "display_data"
    },
    {
     "data": {
      "image/png": "[encoded data removed]",
      "text/plain": [
       "<Figure size 1200x600 with 1 Axes>"
      ]
     },
     "metadata": {},
     "output_type": "display_data"
    },
    {
     "data": {
      "image/png": "[encoded data removed]",
      "text/plain": [
       "<Figure size 1200x600 with 1 Axes>"
      ]
     },
     "metadata": {},
     "output_type": "display_data"
    },
    {
     "data": {
      "image/png": "[encoded data removed]",
      "text/plain": [
       "<Figure size 1200x600 with 1 Axes>"
      ]
     },
     "metadata": {},
     "output_type": "display_data"
    }
   ],
   "source": [
    "features=['amount', 'oldbalanceOrg', 'newbalanceOrig', 'oldbalanceDest', 'newbalanceDest']\n",
    "\n",
    "for feature in features:\n",
    "    plt.figure(figsize=(12, 6))  # Create a new figure for each plot\n",
    "    plt.xlabel(feature)  # Set the x-axis label\n",
    "    df[feature].plot(kind='hist', bins=5, facecolor='grey', edgecolor='black')\n",
    "    plt.title(f'Histogram of {feature}')  # Set the title\n",
    "    plt.show()\n"
   ]
  },
  {
   "cell_type": "markdown",
   "id": "05248dab-0011-4819-bd9f-9b9a3e66bbf0",
   "metadata": {},
   "source": [
    "# after outlier treatment"
   ]
  },
  {
   "cell_type": "code",
   "execution_count": null,
   "id": "6bf994d3-64a1-4942-9575-ffcd4b20fc6b",
   "metadata": {},
   "outputs": [],
   "source": [
    "-> Amount ranges between 0-35 lakhs with more values ranging between 0-75,000. We'll analyze further in the upcoming sections.\n",
    "\n",
    "\n",
    "-> OldbalanceOrg:\n",
    "\n",
    "    Range: Typically ranges from 0 to 1.8 million (18 lakh).\n",
    "    Common Values: Most frequent values are found between 0 and 375,000.\n",
    "NewbalanceOrig:\n",
    "\n",
    "    Range: Usually ranges from 0 to 1.9 million (19 lakh).\n",
    "    Common Values: Highest frequency occurs between 0 and 375,000.\n",
    "OldbalanceDest:\n",
    "\n",
    "    Range: Typically ranges from 0 to 2.9 million (29 lakh).\n",
    "    Common Values: Commonly observed values are between 0 and 625,000.\n",
    "NewbalanceDest:\n",
    "\n",
    "    Range: Generally ranges from 0 to 3.5 million (35 lakh).\n",
    "    Common Values: Frequencies are highest around the range of 0 to 625,000"
   ]
  },
  {
   "cell_type": "markdown",
   "id": "bc5e5be9-79a7-40b1-b051-5abd6bfbd710",
   "metadata": {},
   "source": [
    "We will look into the types of transactions are"
   ]
  },
  {
   "cell_type": "code",
   "execution_count": 45,
   "id": "6a5fdfe0-5c85-4eda-800a-aa9d7f6abadd",
   "metadata": {},
   "outputs": [
    {
     "data": {
      "text/plain": [
       "0           PAYMENT\n",
       "1           PAYMENT\n",
       "2          TRANSFER\n",
       "3          CASH_OUT\n",
       "4           PAYMENT\n",
       "             ...   \n",
       "6362615    CASH_OUT\n",
       "6362616    TRANSFER\n",
       "6362617    CASH_OUT\n",
       "6362618    TRANSFER\n",
       "6362619    CASH_OUT\n",
       "Name: type, Length: 6362620, dtype: object"
      ]
     },
     "execution_count": 45,
     "metadata": {},
     "output_type": "execute_result"
    }
   ],
   "source": [
    "df.type"
   ]
  },
  {
   "cell_type": "code",
   "execution_count": 47,
   "id": "9b6144c2-aa30-4728-9c71-bd6761a5fada",
   "metadata": {},
   "outputs": [],
   "source": [
    "payments=df.type.value_counts()"
   ]
  },
  {
   "cell_type": "code",
   "execution_count": 48,
   "id": "9f77dcea-e3fe-43fe-8afc-170941e4b9d0",
   "metadata": {},
   "outputs": [
    {
     "data": {
      "text/plain": [
       "type\n",
       "CASH_OUT    2237500\n",
       "PAYMENT     2151495\n",
       "CASH_IN     1399284\n",
       "TRANSFER     532909\n",
       "DEBIT         41432\n",
       "Name: count, dtype: int64"
      ]
     },
     "execution_count": 48,
     "metadata": {},
     "output_type": "execute_result"
    }
   ],
   "source": [
    "payments"
   ]
  },
  {
   "cell_type": "code",
   "execution_count": 49,
   "id": "bc23ad5e-d461-4105-a268-9d10dd780305",
   "metadata": {},
   "outputs": [
    {
     "data": {
      "text/plain": [
       "<Axes: xlabel='type', ylabel='count'>"
      ]
     },
     "execution_count": 49,
     "metadata": {},
     "output_type": "execute_result"
    },
    {
     "data": {
      "image/png": "[encoded data removed]",
      "text/plain": [
       "<Figure size 640x480 with 1 Axes>"
      ]
     },
     "metadata": {},
     "output_type": "display_data"
    }
   ],
   "source": [
    "sns.barplot(payments)"
   ]
  },
  {
   "cell_type": "code",
   "execution_count": 50,
   "id": "a1539126-6e08-4e20-a092-793f2125cf68",
   "metadata": {},
   "outputs": [
    {
     "data": {
      "text/plain": [
       "<Axes: xlabel='type', ylabel='count'>"
      ]
     },
     "execution_count": 50,
     "metadata": {},
     "output_type": "execute_result"
    },
    {
     "data": {
      "image/png": "[encoded data removed]",
      "text/plain": [
       "<Figure size 640x480 with 1 Axes>"
      ]
     },
     "metadata": {},
     "output_type": "display_data"
    }
   ],
   "source": [
    "sns.countplot(x='type', data=df)"
   ]
  },
  {
   "cell_type": "markdown",
   "id": "5394db24-6d15-463c-8c6c-5ca72e689fd7",
   "metadata": {},
   "source": [
    "More money has been transacted mostly through cash out followed by payment type.\n",
    "\n",
    "Now let's look at the relationship with type column with isfraud column"
   ]
  },
  {
   "cell_type": "code",
   "execution_count": 69,
   "id": "46c19bea-4b23-4d19-90f6-fdd3ec7e512b",
   "metadata": {},
   "outputs": [
    {
     "data": {
      "text/html": [
       "<div>\n",
       "<style scoped>\n",
       "    .dataframe tbody tr th:only-of-type {\n",
       "        vertical-align: middle;\n",
       "    }\n",
       "\n",
       "    .dataframe tbody tr th {\n",
       "        vertical-align: top;\n",
       "    }\n",
       "\n",
       "    .dataframe thead th {\n",
       "        text-align: right;\n",
       "    }\n",
       "</style>\n",
       "<table border=\"1\" class=\"dataframe\">\n",
       "  <thead>\n",
       "    <tr style=\"text-align: right;\">\n",
       "      <th>isFraud</th>\n",
       "      <th>0</th>\n",
       "      <th>1</th>\n",
       "    </tr>\n",
       "    <tr>\n",
       "      <th>type</th>\n",
       "      <th></th>\n",
       "      <th></th>\n",
       "    </tr>\n",
       "  </thead>\n",
       "  <tbody>\n",
       "    <tr>\n",
       "      <th>CASH_IN</th>\n",
       "      <td>1399284</td>\n",
       "      <td>0</td>\n",
       "    </tr>\n",
       "    <tr>\n",
       "      <th>CASH_OUT</th>\n",
       "      <td>2233384</td>\n",
       "      <td>4116</td>\n",
       "    </tr>\n",
       "    <tr>\n",
       "      <th>DEBIT</th>\n",
       "      <td>41432</td>\n",
       "      <td>0</td>\n",
       "    </tr>\n",
       "    <tr>\n",
       "      <th>PAYMENT</th>\n",
       "      <td>2151495</td>\n",
       "      <td>0</td>\n",
       "    </tr>\n",
       "    <tr>\n",
       "      <th>TRANSFER</th>\n",
       "      <td>528812</td>\n",
       "      <td>4097</td>\n",
       "    </tr>\n",
       "  </tbody>\n",
       "</table>\n",
       "</div>"
      ],
      "text/plain": [
       "isFraud         0     1\n",
       "type                   \n",
       "CASH_IN   1399284     0\n",
       "CASH_OUT  2233384  4116\n",
       "DEBIT       41432     0\n",
       "PAYMENT   2151495     0\n",
       "TRANSFER   528812  4097"
      ]
     },
     "execution_count": 69,
     "metadata": {},
     "output_type": "execute_result"
    }
   ],
   "source": [
    "crossTabResult=pd.crosstab(index=df.type,columns=[df.isFraud])\n",
    "crossTabResult"
   ]
  },
  {
   "cell_type": "code",
   "execution_count": 66,
   "id": "82286f32-4026-40b0-bb55-191ad3d52a0b",
   "metadata": {},
   "outputs": [
    {
     "data": {
      "text/plain": [
       "type\n",
       "CASH_IN        0\n",
       "CASH_OUT    4116\n",
       "DEBIT          0\n",
       "PAYMENT        0\n",
       "TRANSFER    4097\n",
       "Name: 1, dtype: int64"
      ]
     },
     "execution_count": 66,
     "metadata": {},
     "output_type": "execute_result"
    }
   ],
   "source": [
    "#with fraud happened type\n",
    "crossTabResult[1]"
   ]
  },
  {
   "cell_type": "markdown",
   "id": "fbe50b1d-3a14-4d28-9717-2475b36ca966",
   "metadata": {},
   "source": [
    "We can see tha mostly fraud occurs during the casgout and the transfer\n",
    "\n",
    "But the number indicating the fraud is very low and cannot be seen in the graph "
   ]
  },
  {
   "cell_type": "code",
   "execution_count": 68,
   "id": "63db99d9-329f-4267-9851-6d95db16ce9a",
   "metadata": {},
   "outputs": [
    {
     "data": {
      "text/plain": [
       "<Axes: xlabel='type'>"
      ]
     },
     "execution_count": 68,
     "metadata": {},
     "output_type": "execute_result"
    },
    {
     "data": {
      "image/png": "[encoded data removed]",
      "text/plain": [
       "<Figure size 700x400 with 1 Axes>"
      ]
     },
     "metadata": {},
     "output_type": "display_data"
    }
   ],
   "source": [
    "crossTabResult.plot.bar(figsize=(7,4), rot=0)"
   ]
  },
  {
   "cell_type": "code",
   "execution_count": 72,
   "id": "186abf26-7d71-499d-99df-8af15dc7620c",
   "metadata": {},
   "outputs": [
    {
     "data": {
      "text/plain": [
       "pandas.core.frame.DataFrame"
      ]
     },
     "execution_count": 72,
     "metadata": {},
     "output_type": "execute_result"
    }
   ],
   "source": [
    "type(crossTabResult)"
   ]
  },
  {
   "cell_type": "code",
   "execution_count": 73,
   "id": "f11639e4-9339-48a2-b0a1-38de5914719a",
   "metadata": {},
   "outputs": [
    {
     "data": {
      "text/plain": [
       "<Axes: xlabel='type', ylabel='1'>"
      ]
     },
     "execution_count": 73,
     "metadata": {},
     "output_type": "execute_result"
    },
    {
     "data": {
      "image/png": "[encoded data removed]",
      "text/plain": [
       "<Figure size 640x480 with 1 Axes>"
      ]
     },
     "metadata": {},
     "output_type": "display_data"
    }
   ],
   "source": [
    "sns.barplot(crossTabResult[1])"
   ]
  },
  {
   "cell_type": "code",
   "execution_count": 79,
   "id": "4cbaf52f-ef87-4d63-b127-adcb593b43e6",
   "metadata": {},
   "outputs": [
    {
     "data": {
      "text/plain": [
       "(3500.0, 5000.0)"
      ]
     },
     "execution_count": 79,
     "metadata": {},
     "output_type": "execute_result"
    },
    {
     "data": {
      "image/png": "[encoded data removed]",
      "text/plain": [
       "<Figure size 700x400 with 1 Axes>"
      ]
     },
     "metadata": {},
     "output_type": "display_data"
    }
   ],
   "source": [
    "crossTabResult.plot.bar(figsize=(7,4), rot=0)\n",
    "plt.ylim(3500,5000)"
   ]
  },
  {
   "cell_type": "markdown",
   "id": "f6551764-d3dd-4246-944b-82c4999d609b",
   "metadata": {},
   "source": [
    "# Lets calulate the percantage wise fraud"
   ]
  },
  {
   "cell_type": "code",
   "execution_count": 80,
   "id": "67e18781-9fcd-4e67-a244-808dd3c4b831",
   "metadata": {},
   "outputs": [
    {
     "data": {
      "text/html": [
       "<div>\n",
       "<style scoped>\n",
       "    .dataframe tbody tr th:only-of-type {\n",
       "        vertical-align: middle;\n",
       "    }\n",
       "\n",
       "    .dataframe tbody tr th {\n",
       "        vertical-align: top;\n",
       "    }\n",
       "\n",
       "    .dataframe thead th {\n",
       "        text-align: right;\n",
       "    }\n",
       "</style>\n",
       "<table border=\"1\" class=\"dataframe\">\n",
       "  <thead>\n",
       "    <tr style=\"text-align: right;\">\n",
       "      <th>isFraud</th>\n",
       "      <th>0</th>\n",
       "      <th>1</th>\n",
       "    </tr>\n",
       "    <tr>\n",
       "      <th>type</th>\n",
       "      <th></th>\n",
       "      <th></th>\n",
       "    </tr>\n",
       "  </thead>\n",
       "  <tbody>\n",
       "    <tr>\n",
       "      <th>CASH_IN</th>\n",
       "      <td>1399284</td>\n",
       "      <td>0</td>\n",
       "    </tr>\n",
       "    <tr>\n",
       "      <th>CASH_OUT</th>\n",
       "      <td>2233384</td>\n",
       "      <td>4116</td>\n",
       "    </tr>\n",
       "    <tr>\n",
       "      <th>DEBIT</th>\n",
       "      <td>41432</td>\n",
       "      <td>0</td>\n",
       "    </tr>\n",
       "    <tr>\n",
       "      <th>PAYMENT</th>\n",
       "      <td>2151495</td>\n",
       "      <td>0</td>\n",
       "    </tr>\n",
       "    <tr>\n",
       "      <th>TRANSFER</th>\n",
       "      <td>528812</td>\n",
       "      <td>4097</td>\n",
       "    </tr>\n",
       "  </tbody>\n",
       "</table>\n",
       "</div>"
      ],
      "text/plain": [
       "isFraud         0     1\n",
       "type                   \n",
       "CASH_IN   1399284     0\n",
       "CASH_OUT  2233384  4116\n",
       "DEBIT       41432     0\n",
       "PAYMENT   2151495     0\n",
       "TRANSFER   528812  4097"
      ]
     },
     "execution_count": 80,
     "metadata": {},
     "output_type": "execute_result"
    }
   ],
   "source": [
    "crossTabResult"
   ]
  },
  {
   "cell_type": "code",
   "execution_count": 81,
   "id": "73532557-4324-4796-b044-f60fb71429ac",
   "metadata": {},
   "outputs": [
    {
     "data": {
      "text/plain": [
       "0.18395530726256984"
      ]
     },
     "execution_count": 81,
     "metadata": {},
     "output_type": "execute_result"
    }
   ],
   "source": [
    "cashout=2233384+4116\n",
    "cashout_fraud=4116/cashout*100\n",
    "cashout_fraud"
   ]
  },
  {
   "cell_type": "markdown",
   "id": "2c79ffe3-d35f-445e-acd8-600531044902",
   "metadata": {},
   "source": [
    "0.183% denotes the percantage of fraud happened in a cashout mode type ,which is very less"
   ]
  },
  {
   "cell_type": "code",
   "execution_count": 83,
   "id": "dc6629ff-b373-4e08-a76c-4154624148bd",
   "metadata": {},
   "outputs": [
    {
     "data": {
      "text/plain": [
       "0.7687991758442811"
      ]
     },
     "execution_count": 83,
     "metadata": {},
     "output_type": "execute_result"
    }
   ],
   "source": [
    "transfer=528812+4097\n",
    "transfer_fraud=4097/transfer*100\n",
    "transfer_fraud"
   ]
  },
  {
   "cell_type": "markdown",
   "id": "3c70297f-9e66-4f18-818a-ff4fc9a97ec0",
   "metadata": {},
   "source": [
    "0.768% denotes the percantage of fraud happened in the transfer , which is more than the cashout_fraud "
   ]
  },
  {
   "cell_type": "markdown",
   "id": "0271d916-0897-434d-bd89-9758f6ca260a",
   "metadata": {},
   "source": [
    "# Amount"
   ]
  },
  {
   "cell_type": "code",
   "execution_count": 84,
   "id": "463d7138-dd05-40cb-a811-29e423a92bf5",
   "metadata": {},
   "outputs": [
    {
     "data": {
      "text/plain": [
       "0            9839.640\n",
       "1            4501.300\n",
       "2            4501.300\n",
       "3            4501.300\n",
       "4           11668.140\n",
       "              ...    \n",
       "6362615    339682.130\n",
       "6362616    365423.309\n",
       "6362617    365423.309\n",
       "6362618    365423.309\n",
       "6362619    365423.309\n",
       "Name: amount, Length: 6362620, dtype: float64"
      ]
     },
     "execution_count": 84,
     "metadata": {},
     "output_type": "execute_result"
    }
   ],
   "source": [
    "df.amount"
   ]
  },
  {
   "cell_type": "code",
   "execution_count": 89,
   "id": "d495dd24-f731-406d-b859-20ac81b638ff",
   "metadata": {},
   "outputs": [
    {
     "data": {
      "text/plain": [
       "0.0      4501.300\n",
       "1.0    365423.309\n",
       "Name: amount, dtype: float64"
      ]
     },
     "execution_count": 89,
     "metadata": {},
     "output_type": "execute_result"
    }
   ],
   "source": [
    "df['amount'].quantile([0,1])"
   ]
  },
  {
   "cell_type": "code",
   "execution_count": 90,
   "id": "849c7d46-7525-4c9b-9e01-1ecf53fa2719",
   "metadata": {},
   "outputs": [
    {
     "data": {
      "text/plain": [
       "<Axes: title={'center': 'amount'}, xlabel='isFraud'>"
      ]
     },
     "execution_count": 90,
     "metadata": {},
     "output_type": "execute_result"
    },
    {
     "data": {
      "image/png": "[encoded data removed]",
      "text/plain": [
       "<Figure size 640x480 with 1 Axes>"
      ]
     },
     "metadata": {},
     "output_type": "display_data"
    }
   ],
   "source": [
    "df.boxplot(column='amount', by='isFraud')"
   ]
  },
  {
   "cell_type": "markdown",
   "id": "673f0fc5-fa13-44b0-8edb-7e5a5cfb09a4",
   "metadata": {},
   "source": [
    "# Fraud amount transaction between 1.3lakh-3.65lakh"
   ]
  },
  {
   "cell_type": "markdown",
   "id": "db0242e4-9388-49f2-bd8b-3f7b0c1a6b40",
   "metadata": {},
   "source": [
    "isFlaggedFraud\n",
    "isFlaggedFraud denotes the transactions that are assumed to be fraud."
   ]
  },
  {
   "cell_type": "code",
   "execution_count": 91,
   "id": "29c30076-6169-49e1-865c-904a4ec0814c",
   "metadata": {},
   "outputs": [
    {
     "data": {
      "text/plain": [
       "isFlaggedFraud\n",
       "0    6362604\n",
       "1         16\n",
       "Name: count, dtype: int64"
      ]
     },
     "execution_count": 91,
     "metadata": {},
     "output_type": "execute_result"
    }
   ],
   "source": [
    "df.isFlaggedFraud.value_counts()"
   ]
  },
  {
   "cell_type": "markdown",
   "id": "cf8cb42d-e93e-4ed4-aad0-62909b763c6d",
   "metadata": {},
   "source": [
    "### from 63.6 lakh records only 16 records are flagged as fraud which is actually a very low number\n",
    "\n",
    "### The actual fraud happend has a very higher value when compared to isFlaggedFraud column."
   ]
  },
  {
   "cell_type": "code",
   "execution_count": 94,
   "id": "8017bd72-c3fb-467f-aa06-f4e755d9ddc2",
   "metadata": {},
   "outputs": [
    {
     "data": {
      "text/html": [
       "<div>\n",
       "<style scoped>\n",
       "    .dataframe tbody tr th:only-of-type {\n",
       "        vertical-align: middle;\n",
       "    }\n",
       "\n",
       "    .dataframe tbody tr th {\n",
       "        vertical-align: top;\n",
       "    }\n",
       "\n",
       "    .dataframe thead th {\n",
       "        text-align: right;\n",
       "    }\n",
       "</style>\n",
       "<table border=\"1\" class=\"dataframe\">\n",
       "  <thead>\n",
       "    <tr style=\"text-align: right;\">\n",
       "      <th></th>\n",
       "      <th>step</th>\n",
       "      <th>type</th>\n",
       "      <th>amount</th>\n",
       "      <th>nameOrig</th>\n",
       "      <th>oldbalanceOrg</th>\n",
       "      <th>newbalanceOrig</th>\n",
       "      <th>nameDest</th>\n",
       "      <th>oldbalanceDest</th>\n",
       "      <th>newbalanceDest</th>\n",
       "      <th>isFraud</th>\n",
       "      <th>isFlaggedFraud</th>\n",
       "    </tr>\n",
       "  </thead>\n",
       "  <tbody>\n",
       "    <tr>\n",
       "      <th>2736446</th>\n",
       "      <td>212</td>\n",
       "      <td>TRANSFER</td>\n",
       "      <td>365423.309</td>\n",
       "      <td>C728984460</td>\n",
       "      <td>1822508.289</td>\n",
       "      <td>1970344.793</td>\n",
       "      <td>C639921569</td>\n",
       "      <td>0.0</td>\n",
       "      <td>0.0</td>\n",
       "      <td>1</td>\n",
       "      <td>1</td>\n",
       "    </tr>\n",
       "    <tr>\n",
       "      <th>3247297</th>\n",
       "      <td>250</td>\n",
       "      <td>TRANSFER</td>\n",
       "      <td>365423.309</td>\n",
       "      <td>C1100582606</td>\n",
       "      <td>1343002.080</td>\n",
       "      <td>1343002.080</td>\n",
       "      <td>C1147517658</td>\n",
       "      <td>0.0</td>\n",
       "      <td>0.0</td>\n",
       "      <td>1</td>\n",
       "      <td>1</td>\n",
       "    </tr>\n",
       "    <tr>\n",
       "      <th>3760288</th>\n",
       "      <td>279</td>\n",
       "      <td>TRANSFER</td>\n",
       "      <td>365423.309</td>\n",
       "      <td>C1035541766</td>\n",
       "      <td>536624.410</td>\n",
       "      <td>536624.410</td>\n",
       "      <td>C1100697970</td>\n",
       "      <td>0.0</td>\n",
       "      <td>0.0</td>\n",
       "      <td>1</td>\n",
       "      <td>1</td>\n",
       "    </tr>\n",
       "    <tr>\n",
       "      <th>5563713</th>\n",
       "      <td>387</td>\n",
       "      <td>TRANSFER</td>\n",
       "      <td>365423.309</td>\n",
       "      <td>C908544136</td>\n",
       "      <td>1822508.289</td>\n",
       "      <td>1970344.793</td>\n",
       "      <td>C891140444</td>\n",
       "      <td>0.0</td>\n",
       "      <td>0.0</td>\n",
       "      <td>1</td>\n",
       "      <td>1</td>\n",
       "    </tr>\n",
       "    <tr>\n",
       "      <th>5996407</th>\n",
       "      <td>425</td>\n",
       "      <td>TRANSFER</td>\n",
       "      <td>365423.309</td>\n",
       "      <td>C689608084</td>\n",
       "      <td>1822508.289</td>\n",
       "      <td>1970344.793</td>\n",
       "      <td>C1392803603</td>\n",
       "      <td>0.0</td>\n",
       "      <td>0.0</td>\n",
       "      <td>1</td>\n",
       "      <td>1</td>\n",
       "    </tr>\n",
       "    <tr>\n",
       "      <th>5996409</th>\n",
       "      <td>425</td>\n",
       "      <td>TRANSFER</td>\n",
       "      <td>365423.309</td>\n",
       "      <td>C452586515</td>\n",
       "      <td>1822508.289</td>\n",
       "      <td>1970344.793</td>\n",
       "      <td>C1109166882</td>\n",
       "      <td>0.0</td>\n",
       "      <td>0.0</td>\n",
       "      <td>1</td>\n",
       "      <td>1</td>\n",
       "    </tr>\n",
       "    <tr>\n",
       "      <th>6168499</th>\n",
       "      <td>554</td>\n",
       "      <td>TRANSFER</td>\n",
       "      <td>365423.309</td>\n",
       "      <td>C193696150</td>\n",
       "      <td>1822508.289</td>\n",
       "      <td>1970344.793</td>\n",
       "      <td>C484597480</td>\n",
       "      <td>0.0</td>\n",
       "      <td>0.0</td>\n",
       "      <td>1</td>\n",
       "      <td>1</td>\n",
       "    </tr>\n",
       "    <tr>\n",
       "      <th>6205439</th>\n",
       "      <td>586</td>\n",
       "      <td>TRANSFER</td>\n",
       "      <td>353874.220</td>\n",
       "      <td>C1684585475</td>\n",
       "      <td>353874.220</td>\n",
       "      <td>353874.220</td>\n",
       "      <td>C1770418982</td>\n",
       "      <td>0.0</td>\n",
       "      <td>0.0</td>\n",
       "      <td>1</td>\n",
       "      <td>1</td>\n",
       "    </tr>\n",
       "    <tr>\n",
       "      <th>6266413</th>\n",
       "      <td>617</td>\n",
       "      <td>TRANSFER</td>\n",
       "      <td>365423.309</td>\n",
       "      <td>C786455622</td>\n",
       "      <td>1822508.289</td>\n",
       "      <td>1970344.793</td>\n",
       "      <td>C661958277</td>\n",
       "      <td>0.0</td>\n",
       "      <td>0.0</td>\n",
       "      <td>1</td>\n",
       "      <td>1</td>\n",
       "    </tr>\n",
       "    <tr>\n",
       "      <th>6281482</th>\n",
       "      <td>646</td>\n",
       "      <td>TRANSFER</td>\n",
       "      <td>365423.309</td>\n",
       "      <td>C19004745</td>\n",
       "      <td>1822508.289</td>\n",
       "      <td>1970344.793</td>\n",
       "      <td>C1806199534</td>\n",
       "      <td>0.0</td>\n",
       "      <td>0.0</td>\n",
       "      <td>1</td>\n",
       "      <td>1</td>\n",
       "    </tr>\n",
       "    <tr>\n",
       "      <th>6281484</th>\n",
       "      <td>646</td>\n",
       "      <td>TRANSFER</td>\n",
       "      <td>365423.309</td>\n",
       "      <td>C724693370</td>\n",
       "      <td>1822508.289</td>\n",
       "      <td>1970344.793</td>\n",
       "      <td>C1909486199</td>\n",
       "      <td>0.0</td>\n",
       "      <td>0.0</td>\n",
       "      <td>1</td>\n",
       "      <td>1</td>\n",
       "    </tr>\n",
       "    <tr>\n",
       "      <th>6296014</th>\n",
       "      <td>671</td>\n",
       "      <td>TRANSFER</td>\n",
       "      <td>365423.309</td>\n",
       "      <td>C917414431</td>\n",
       "      <td>1822508.289</td>\n",
       "      <td>1970344.793</td>\n",
       "      <td>C1082139865</td>\n",
       "      <td>0.0</td>\n",
       "      <td>0.0</td>\n",
       "      <td>1</td>\n",
       "      <td>1</td>\n",
       "    </tr>\n",
       "    <tr>\n",
       "      <th>6351225</th>\n",
       "      <td>702</td>\n",
       "      <td>TRANSFER</td>\n",
       "      <td>365423.309</td>\n",
       "      <td>C1892216157</td>\n",
       "      <td>1822508.289</td>\n",
       "      <td>1970344.793</td>\n",
       "      <td>C1308068787</td>\n",
       "      <td>0.0</td>\n",
       "      <td>0.0</td>\n",
       "      <td>1</td>\n",
       "      <td>1</td>\n",
       "    </tr>\n",
       "    <tr>\n",
       "      <th>6362460</th>\n",
       "      <td>730</td>\n",
       "      <td>TRANSFER</td>\n",
       "      <td>365423.309</td>\n",
       "      <td>C2140038573</td>\n",
       "      <td>1822508.289</td>\n",
       "      <td>1970344.793</td>\n",
       "      <td>C1395467927</td>\n",
       "      <td>0.0</td>\n",
       "      <td>0.0</td>\n",
       "      <td>1</td>\n",
       "      <td>1</td>\n",
       "    </tr>\n",
       "    <tr>\n",
       "      <th>6362462</th>\n",
       "      <td>730</td>\n",
       "      <td>TRANSFER</td>\n",
       "      <td>365423.309</td>\n",
       "      <td>C1869569059</td>\n",
       "      <td>1822508.289</td>\n",
       "      <td>1970344.793</td>\n",
       "      <td>C1861208726</td>\n",
       "      <td>0.0</td>\n",
       "      <td>0.0</td>\n",
       "      <td>1</td>\n",
       "      <td>1</td>\n",
       "    </tr>\n",
       "    <tr>\n",
       "      <th>6362584</th>\n",
       "      <td>741</td>\n",
       "      <td>TRANSFER</td>\n",
       "      <td>365423.309</td>\n",
       "      <td>C992223106</td>\n",
       "      <td>1822508.289</td>\n",
       "      <td>1970344.793</td>\n",
       "      <td>C1366804249</td>\n",
       "      <td>0.0</td>\n",
       "      <td>0.0</td>\n",
       "      <td>1</td>\n",
       "      <td>1</td>\n",
       "    </tr>\n",
       "  </tbody>\n",
       "</table>\n",
       "</div>"
      ],
      "text/plain": [
       "         step      type      amount     nameOrig  oldbalanceOrg  \\\n",
       "2736446   212  TRANSFER  365423.309   C728984460    1822508.289   \n",
       "3247297   250  TRANSFER  365423.309  C1100582606    1343002.080   \n",
       "3760288   279  TRANSFER  365423.309  C1035541766     536624.410   \n",
       "5563713   387  TRANSFER  365423.309   C908544136    1822508.289   \n",
       "5996407   425  TRANSFER  365423.309   C689608084    1822508.289   \n",
       "5996409   425  TRANSFER  365423.309   C452586515    1822508.289   \n",
       "6168499   554  TRANSFER  365423.309   C193696150    1822508.289   \n",
       "6205439   586  TRANSFER  353874.220  C1684585475     353874.220   \n",
       "6266413   617  TRANSFER  365423.309   C786455622    1822508.289   \n",
       "6281482   646  TRANSFER  365423.309    C19004745    1822508.289   \n",
       "6281484   646  TRANSFER  365423.309   C724693370    1822508.289   \n",
       "6296014   671  TRANSFER  365423.309   C917414431    1822508.289   \n",
       "6351225   702  TRANSFER  365423.309  C1892216157    1822508.289   \n",
       "6362460   730  TRANSFER  365423.309  C2140038573    1822508.289   \n",
       "6362462   730  TRANSFER  365423.309  C1869569059    1822508.289   \n",
       "6362584   741  TRANSFER  365423.309   C992223106    1822508.289   \n",
       "\n",
       "         newbalanceOrig     nameDest  oldbalanceDest  newbalanceDest  isFraud  \\\n",
       "2736446     1970344.793   C639921569             0.0             0.0        1   \n",
       "3247297     1343002.080  C1147517658             0.0             0.0        1   \n",
       "3760288      536624.410  C1100697970             0.0             0.0        1   \n",
       "5563713     1970344.793   C891140444             0.0             0.0        1   \n",
       "5996407     1970344.793  C1392803603             0.0             0.0        1   \n",
       "5996409     1970344.793  C1109166882             0.0             0.0        1   \n",
       "6168499     1970344.793   C484597480             0.0             0.0        1   \n",
       "6205439      353874.220  C1770418982             0.0             0.0        1   \n",
       "6266413     1970344.793   C661958277             0.0             0.0        1   \n",
       "6281482     1970344.793  C1806199534             0.0             0.0        1   \n",
       "6281484     1970344.793  C1909486199             0.0             0.0        1   \n",
       "6296014     1970344.793  C1082139865             0.0             0.0        1   \n",
       "6351225     1970344.793  C1308068787             0.0             0.0        1   \n",
       "6362460     1970344.793  C1395467927             0.0             0.0        1   \n",
       "6362462     1970344.793  C1861208726             0.0             0.0        1   \n",
       "6362584     1970344.793  C1366804249             0.0             0.0        1   \n",
       "\n",
       "         isFlaggedFraud  \n",
       "2736446               1  \n",
       "3247297               1  \n",
       "3760288               1  \n",
       "5563713               1  \n",
       "5996407               1  \n",
       "5996409               1  \n",
       "6168499               1  \n",
       "6205439               1  \n",
       "6266413               1  \n",
       "6281482               1  \n",
       "6281484               1  \n",
       "6296014               1  \n",
       "6351225               1  \n",
       "6362460               1  \n",
       "6362462               1  \n",
       "6362584               1  "
      ]
     },
     "execution_count": 94,
     "metadata": {},
     "output_type": "execute_result"
    }
   ],
   "source": [
    "flagged_fraud_records=df[(df.isFlaggedFraud==1) & (df.isFraud==1)]\n",
    "flagged_fraud_records"
   ]
  },
  {
   "cell_type": "code",
   "execution_count": 95,
   "id": "2461687d-e8e7-40d9-b306-0253652b6aab",
   "metadata": {},
   "outputs": [
    {
     "data": {
      "text/plain": [
       "(16, 11)"
      ]
     },
     "execution_count": 95,
     "metadata": {},
     "output_type": "execute_result"
    }
   ],
   "source": [
    "flagged_fraud_records.shape"
   ]
  },
  {
   "cell_type": "code",
   "execution_count": 105,
   "id": "1c444dee-28db-4eb6-855b-c9c12c4062ab",
   "metadata": {},
   "outputs": [],
   "source": [
    "flagged_fraud_records=flagged_fraud_records.shape[0]"
   ]
  },
  {
   "cell_type": "code",
   "execution_count": 97,
   "id": "edffc6b0-3cf1-49fb-872f-d7ac5adf45c5",
   "metadata": {},
   "outputs": [
    {
     "data": {
      "text/html": [
       "<div>\n",
       "<style scoped>\n",
       "    .dataframe tbody tr th:only-of-type {\n",
       "        vertical-align: middle;\n",
       "    }\n",
       "\n",
       "    .dataframe tbody tr th {\n",
       "        vertical-align: top;\n",
       "    }\n",
       "\n",
       "    .dataframe thead th {\n",
       "        text-align: right;\n",
       "    }\n",
       "</style>\n",
       "<table border=\"1\" class=\"dataframe\">\n",
       "  <thead>\n",
       "    <tr style=\"text-align: right;\">\n",
       "      <th></th>\n",
       "      <th>step</th>\n",
       "      <th>type</th>\n",
       "      <th>amount</th>\n",
       "      <th>nameOrig</th>\n",
       "      <th>oldbalanceOrg</th>\n",
       "      <th>newbalanceOrig</th>\n",
       "      <th>nameDest</th>\n",
       "      <th>oldbalanceDest</th>\n",
       "      <th>newbalanceDest</th>\n",
       "      <th>isFraud</th>\n",
       "      <th>isFlaggedFraud</th>\n",
       "    </tr>\n",
       "  </thead>\n",
       "  <tbody>\n",
       "    <tr>\n",
       "      <th>2</th>\n",
       "      <td>1</td>\n",
       "      <td>TRANSFER</td>\n",
       "      <td>4501.300</td>\n",
       "      <td>C1305486145</td>\n",
       "      <td>181.000</td>\n",
       "      <td>0.0</td>\n",
       "      <td>C553264065</td>\n",
       "      <td>0.000</td>\n",
       "      <td>0.000</td>\n",
       "      <td>1</td>\n",
       "      <td>0</td>\n",
       "    </tr>\n",
       "    <tr>\n",
       "      <th>3</th>\n",
       "      <td>1</td>\n",
       "      <td>CASH_OUT</td>\n",
       "      <td>4501.300</td>\n",
       "      <td>C840083671</td>\n",
       "      <td>181.000</td>\n",
       "      <td>0.0</td>\n",
       "      <td>C38997010</td>\n",
       "      <td>21182.000</td>\n",
       "      <td>0.000</td>\n",
       "      <td>1</td>\n",
       "      <td>0</td>\n",
       "    </tr>\n",
       "    <tr>\n",
       "      <th>251</th>\n",
       "      <td>1</td>\n",
       "      <td>TRANSFER</td>\n",
       "      <td>4501.300</td>\n",
       "      <td>C1420196421</td>\n",
       "      <td>2806.000</td>\n",
       "      <td>0.0</td>\n",
       "      <td>C972765878</td>\n",
       "      <td>0.000</td>\n",
       "      <td>0.000</td>\n",
       "      <td>1</td>\n",
       "      <td>0</td>\n",
       "    </tr>\n",
       "    <tr>\n",
       "      <th>252</th>\n",
       "      <td>1</td>\n",
       "      <td>CASH_OUT</td>\n",
       "      <td>4501.300</td>\n",
       "      <td>C2101527076</td>\n",
       "      <td>2806.000</td>\n",
       "      <td>0.0</td>\n",
       "      <td>C1007251739</td>\n",
       "      <td>26202.000</td>\n",
       "      <td>0.000</td>\n",
       "      <td>1</td>\n",
       "      <td>0</td>\n",
       "    </tr>\n",
       "    <tr>\n",
       "      <th>680</th>\n",
       "      <td>1</td>\n",
       "      <td>TRANSFER</td>\n",
       "      <td>20128.000</td>\n",
       "      <td>C137533655</td>\n",
       "      <td>20128.000</td>\n",
       "      <td>0.0</td>\n",
       "      <td>C1848415041</td>\n",
       "      <td>0.000</td>\n",
       "      <td>0.000</td>\n",
       "      <td>1</td>\n",
       "      <td>0</td>\n",
       "    </tr>\n",
       "    <tr>\n",
       "      <th>...</th>\n",
       "      <td>...</td>\n",
       "      <td>...</td>\n",
       "      <td>...</td>\n",
       "      <td>...</td>\n",
       "      <td>...</td>\n",
       "      <td>...</td>\n",
       "      <td>...</td>\n",
       "      <td>...</td>\n",
       "      <td>...</td>\n",
       "      <td>...</td>\n",
       "      <td>...</td>\n",
       "    </tr>\n",
       "    <tr>\n",
       "      <th>6362615</th>\n",
       "      <td>743</td>\n",
       "      <td>CASH_OUT</td>\n",
       "      <td>339682.130</td>\n",
       "      <td>C786484425</td>\n",
       "      <td>339682.130</td>\n",
       "      <td>0.0</td>\n",
       "      <td>C776919290</td>\n",
       "      <td>0.000</td>\n",
       "      <td>339682.130</td>\n",
       "      <td>1</td>\n",
       "      <td>0</td>\n",
       "    </tr>\n",
       "    <tr>\n",
       "      <th>6362616</th>\n",
       "      <td>743</td>\n",
       "      <td>TRANSFER</td>\n",
       "      <td>365423.309</td>\n",
       "      <td>C1529008245</td>\n",
       "      <td>1822508.289</td>\n",
       "      <td>0.0</td>\n",
       "      <td>C1881841831</td>\n",
       "      <td>0.000</td>\n",
       "      <td>0.000</td>\n",
       "      <td>1</td>\n",
       "      <td>0</td>\n",
       "    </tr>\n",
       "    <tr>\n",
       "      <th>6362617</th>\n",
       "      <td>743</td>\n",
       "      <td>CASH_OUT</td>\n",
       "      <td>365423.309</td>\n",
       "      <td>C1162922333</td>\n",
       "      <td>1822508.289</td>\n",
       "      <td>0.0</td>\n",
       "      <td>C1365125890</td>\n",
       "      <td>68488.840</td>\n",
       "      <td>3194869.671</td>\n",
       "      <td>1</td>\n",
       "      <td>0</td>\n",
       "    </tr>\n",
       "    <tr>\n",
       "      <th>6362618</th>\n",
       "      <td>743</td>\n",
       "      <td>TRANSFER</td>\n",
       "      <td>365423.309</td>\n",
       "      <td>C1685995037</td>\n",
       "      <td>850002.520</td>\n",
       "      <td>0.0</td>\n",
       "      <td>C2080388513</td>\n",
       "      <td>0.000</td>\n",
       "      <td>0.000</td>\n",
       "      <td>1</td>\n",
       "      <td>0</td>\n",
       "    </tr>\n",
       "    <tr>\n",
       "      <th>6362619</th>\n",
       "      <td>743</td>\n",
       "      <td>CASH_OUT</td>\n",
       "      <td>365423.309</td>\n",
       "      <td>C1280323807</td>\n",
       "      <td>850002.520</td>\n",
       "      <td>0.0</td>\n",
       "      <td>C873221189</td>\n",
       "      <td>2914266.669</td>\n",
       "      <td>3194869.671</td>\n",
       "      <td>1</td>\n",
       "      <td>0</td>\n",
       "    </tr>\n",
       "  </tbody>\n",
       "</table>\n",
       "<p>8213 rows × 11 columns</p>\n",
       "</div>"
      ],
      "text/plain": [
       "         step      type      amount     nameOrig  oldbalanceOrg  \\\n",
       "2           1  TRANSFER    4501.300  C1305486145        181.000   \n",
       "3           1  CASH_OUT    4501.300   C840083671        181.000   \n",
       "251         1  TRANSFER    4501.300  C1420196421       2806.000   \n",
       "252         1  CASH_OUT    4501.300  C2101527076       2806.000   \n",
       "680         1  TRANSFER   20128.000   C137533655      20128.000   \n",
       "...       ...       ...         ...          ...            ...   \n",
       "6362615   743  CASH_OUT  339682.130   C786484425     339682.130   \n",
       "6362616   743  TRANSFER  365423.309  C1529008245    1822508.289   \n",
       "6362617   743  CASH_OUT  365423.309  C1162922333    1822508.289   \n",
       "6362618   743  TRANSFER  365423.309  C1685995037     850002.520   \n",
       "6362619   743  CASH_OUT  365423.309  C1280323807     850002.520   \n",
       "\n",
       "         newbalanceOrig     nameDest  oldbalanceDest  newbalanceDest  isFraud  \\\n",
       "2                   0.0   C553264065           0.000           0.000        1   \n",
       "3                   0.0    C38997010       21182.000           0.000        1   \n",
       "251                 0.0   C972765878           0.000           0.000        1   \n",
       "252                 0.0  C1007251739       26202.000           0.000        1   \n",
       "680                 0.0  C1848415041           0.000           0.000        1   \n",
       "...                 ...          ...             ...             ...      ...   \n",
       "6362615             0.0   C776919290           0.000      339682.130        1   \n",
       "6362616             0.0  C1881841831           0.000           0.000        1   \n",
       "6362617             0.0  C1365125890       68488.840     3194869.671        1   \n",
       "6362618             0.0  C2080388513           0.000           0.000        1   \n",
       "6362619             0.0   C873221189     2914266.669     3194869.671        1   \n",
       "\n",
       "         isFlaggedFraud  \n",
       "2                     0  \n",
       "3                     0  \n",
       "251                   0  \n",
       "252                   0  \n",
       "680                   0  \n",
       "...                 ...  \n",
       "6362615               0  \n",
       "6362616               0  \n",
       "6362617               0  \n",
       "6362618               0  \n",
       "6362619               0  \n",
       "\n",
       "[8213 rows x 11 columns]"
      ]
     },
     "execution_count": 97,
     "metadata": {},
     "output_type": "execute_result"
    }
   ],
   "source": [
    "total_frauds=df[df.isFraud==1]\n",
    "total_frauds"
   ]
  },
  {
   "cell_type": "code",
   "execution_count": 102,
   "id": "a5dc0ccc-6ea4-4a06-b8a0-29563bb32b3d",
   "metadata": {},
   "outputs": [
    {
     "ename": "AttributeError",
     "evalue": "'int' object has no attribute 'shape'",
     "output_type": "error",
     "traceback": [
      "\u001b[1;31m---------------------------------------------------------------------------\u001b[0m",
      "\u001b[1;31mAttributeError\u001b[0m                            Traceback (most recent call last)",
      "Cell \u001b[1;32mIn[102], line 1\u001b[0m\n\u001b[1;32m----> 1\u001b[0m total_frauds\u001b[38;5;241m=\u001b[39m\u001b[43mtotal_frauds\u001b[49m\u001b[38;5;241;43m.\u001b[39;49m\u001b[43mshape\u001b[49m[\u001b[38;5;241m0\u001b[39m]\n\u001b[0;32m      2\u001b[0m total_frauds\n",
      "\u001b[1;31mAttributeError\u001b[0m: 'int' object has no attribute 'shape'"
     ]
    }
   ],
   "source": [
    "total_frauds=total_frauds.shape[0]"
   ]
  },
  {
   "cell_type": "code",
   "execution_count": 103,
   "id": "a977d36f-5449-4af0-a3b2-078ff7827c64",
   "metadata": {},
   "outputs": [
    {
     "data": {
      "text/plain": [
       "8213"
      ]
     },
     "execution_count": 103,
     "metadata": {},
     "output_type": "execute_result"
    }
   ],
   "source": [
    "total_frauds"
   ]
  },
  {
   "cell_type": "code",
   "execution_count": 106,
   "id": "1dd8d4c2-0590-4499-b769-d29562294e78",
   "metadata": {},
   "outputs": [],
   "source": [
    "flaggeg_precantage=flagged_fraud_records/total_frauds * 100"
   ]
  },
  {
   "cell_type": "code",
   "execution_count": 107,
   "id": "3255d39b-da3f-4253-853d-f5323edfc255",
   "metadata": {},
   "outputs": [
    {
     "data": {
      "text/plain": [
       "0.1948131011810544"
      ]
     },
     "execution_count": 107,
     "metadata": {},
     "output_type": "execute_result"
    }
   ],
   "source": [
    "flaggeg_precantage"
   ]
  },
  {
   "cell_type": "markdown",
   "id": "e4dcb5e8-c062-493c-90bb-5fc07502f1e7",
   "metadata": {},
   "source": [
    "only 0.195 % of the fraud transactions are flagged as a fraud which is very less"
   ]
  },
  {
   "cell_type": "code",
   "execution_count": 108,
   "id": "7040f015-19f5-4c8c-a312-f9699581a53d",
   "metadata": {},
   "outputs": [],
   "source": [
    "unflagged_fraud_percantage=(total_frauds-flagged_fraud_records)/total_frauds *100"
   ]
  },
  {
   "cell_type": "code",
   "execution_count": 112,
   "id": "0daf7462-7f1a-491e-8c35-9bc8d0c6b71b",
   "metadata": {},
   "outputs": [
    {
     "name": "stdout",
     "output_type": "stream",
     "text": [
      "percantage of incorrectly flageed :  99.805\n"
     ]
    }
   ],
   "source": [
    "print(\"percantage of incorrectly flageed : \",round(unflagged_fraud_percantage,3))"
   ]
  },
  {
   "cell_type": "markdown",
   "id": "967e7cde-a1d3-4bb6-a692-b6f44ef8adc4",
   "metadata": {},
   "source": [
    "##### In this we have to handle the false negative predictions (confusion matrix ) where the model predicts the transaction is not fraud\n",
    "#### but in actual it is fraud"
   ]
  },
  {
   "cell_type": "code",
   "execution_count": 115,
   "id": "3d08d173-82ef-4cda-8590-01be1ad33801",
   "metadata": {},
   "outputs": [],
   "source": [
    "total_transactions=df.shape[0]\n",
    "fraud_transactions_percantage=total_frauds/total_transactions*100"
   ]
  },
  {
   "cell_type": "code",
   "execution_count": 116,
   "id": "75fa84a2-19f1-4beb-b411-ad912eb9ae55",
   "metadata": {},
   "outputs": [
    {
     "data": {
      "text/plain": [
       "0.12908204481801522"
      ]
     },
     "execution_count": 116,
     "metadata": {},
     "output_type": "execute_result"
    }
   ],
   "source": [
    "fraud_transactions_percantage"
   ]
  },
  {
   "cell_type": "code",
   "execution_count": 152,
   "id": "526e3e02-b725-48c2-9aab-61d84388d1fe",
   "metadata": {},
   "outputs": [
    {
     "name": "stdout",
     "output_type": "stream",
     "text": [
      "total transactions :  6362620\n",
      "total fraud transactions  8213\n",
      "fraud percantage :  0.13\n"
     ]
    }
   ],
   "source": [
    "print(\"total transactions : \", total_transactions)\n",
    "print(\"total fraud transactions \" , total_frauds)\n",
    "print(\"fraud percantage : \",round(fraud_transactions_percantage,2))"
   ]
  },
  {
   "cell_type": "code",
   "execution_count": 121,
   "id": "9bb20d7b-ae79-4183-923d-964b8767669c",
   "metadata": {},
   "outputs": [
    {
     "data": {
      "text/html": [
       "<div>\n",
       "<style scoped>\n",
       "    .dataframe tbody tr th:only-of-type {\n",
       "        vertical-align: middle;\n",
       "    }\n",
       "\n",
       "    .dataframe tbody tr th {\n",
       "        vertical-align: top;\n",
       "    }\n",
       "\n",
       "    .dataframe thead th {\n",
       "        text-align: right;\n",
       "    }\n",
       "</style>\n",
       "<table border=\"1\" class=\"dataframe\">\n",
       "  <thead>\n",
       "    <tr style=\"text-align: right;\">\n",
       "      <th></th>\n",
       "      <th>step</th>\n",
       "      <th>type</th>\n",
       "      <th>amount</th>\n",
       "      <th>nameOrig</th>\n",
       "      <th>oldbalanceOrg</th>\n",
       "      <th>newbalanceOrig</th>\n",
       "      <th>nameDest</th>\n",
       "      <th>oldbalanceDest</th>\n",
       "      <th>newbalanceDest</th>\n",
       "      <th>isFraud</th>\n",
       "      <th>isFlaggedFraud</th>\n",
       "    </tr>\n",
       "  </thead>\n",
       "  <tbody>\n",
       "    <tr>\n",
       "      <th>5188057</th>\n",
       "      <td>367</td>\n",
       "      <td>CASH_OUT</td>\n",
       "      <td>365423.309</td>\n",
       "      <td>C1210833971</td>\n",
       "      <td>435867.160</td>\n",
       "      <td>0.000</td>\n",
       "      <td>C363013236</td>\n",
       "      <td>186826.40</td>\n",
       "      <td>622693.550</td>\n",
       "      <td>1</td>\n",
       "      <td>0</td>\n",
       "    </tr>\n",
       "    <tr>\n",
       "      <th>5990227</th>\n",
       "      <td>416</td>\n",
       "      <td>CASH_OUT</td>\n",
       "      <td>365423.309</td>\n",
       "      <td>C2110305720</td>\n",
       "      <td>1822508.289</td>\n",
       "      <td>0.000</td>\n",
       "      <td>C225008798</td>\n",
       "      <td>523626.59</td>\n",
       "      <td>3194869.671</td>\n",
       "      <td>1</td>\n",
       "      <td>0</td>\n",
       "    </tr>\n",
       "    <tr>\n",
       "      <th>5990225</th>\n",
       "      <td>416</td>\n",
       "      <td>CASH_OUT</td>\n",
       "      <td>365423.309</td>\n",
       "      <td>C246726057</td>\n",
       "      <td>1822508.289</td>\n",
       "      <td>0.000</td>\n",
       "      <td>C1786144514</td>\n",
       "      <td>2423749.18</td>\n",
       "      <td>3194869.671</td>\n",
       "      <td>1</td>\n",
       "      <td>0</td>\n",
       "    </tr>\n",
       "    <tr>\n",
       "      <th>5990224</th>\n",
       "      <td>416</td>\n",
       "      <td>TRANSFER</td>\n",
       "      <td>365423.309</td>\n",
       "      <td>C298387535</td>\n",
       "      <td>1822508.289</td>\n",
       "      <td>1970344.793</td>\n",
       "      <td>C662194461</td>\n",
       "      <td>0.00</td>\n",
       "      <td>0.000</td>\n",
       "      <td>1</td>\n",
       "      <td>0</td>\n",
       "    </tr>\n",
       "    <tr>\n",
       "      <th>5988262</th>\n",
       "      <td>415</td>\n",
       "      <td>CASH_OUT</td>\n",
       "      <td>365423.309</td>\n",
       "      <td>C2137951962</td>\n",
       "      <td>1675153.280</td>\n",
       "      <td>0.000</td>\n",
       "      <td>C309573869</td>\n",
       "      <td>12832.26</td>\n",
       "      <td>1687985.530</td>\n",
       "      <td>1</td>\n",
       "      <td>0</td>\n",
       "    </tr>\n",
       "    <tr>\n",
       "      <th>...</th>\n",
       "      <td>...</td>\n",
       "      <td>...</td>\n",
       "      <td>...</td>\n",
       "      <td>...</td>\n",
       "      <td>...</td>\n",
       "      <td>...</td>\n",
       "      <td>...</td>\n",
       "      <td>...</td>\n",
       "      <td>...</td>\n",
       "      <td>...</td>\n",
       "      <td>...</td>\n",
       "    </tr>\n",
       "    <tr>\n",
       "      <th>6002113</th>\n",
       "      <td>428</td>\n",
       "      <td>CASH_OUT</td>\n",
       "      <td>4501.300</td>\n",
       "      <td>C1838531308</td>\n",
       "      <td>3037.670</td>\n",
       "      <td>0.000</td>\n",
       "      <td>C505532836</td>\n",
       "      <td>800854.71</td>\n",
       "      <td>803892.380</td>\n",
       "      <td>1</td>\n",
       "      <td>0</td>\n",
       "    </tr>\n",
       "    <tr>\n",
       "      <th>6002112</th>\n",
       "      <td>428</td>\n",
       "      <td>TRANSFER</td>\n",
       "      <td>4501.300</td>\n",
       "      <td>C1408814433</td>\n",
       "      <td>3037.670</td>\n",
       "      <td>0.000</td>\n",
       "      <td>C944070846</td>\n",
       "      <td>0.00</td>\n",
       "      <td>0.000</td>\n",
       "      <td>1</td>\n",
       "      <td>0</td>\n",
       "    </tr>\n",
       "    <tr>\n",
       "      <th>1796322</th>\n",
       "      <td>162</td>\n",
       "      <td>TRANSFER</td>\n",
       "      <td>4501.300</td>\n",
       "      <td>C1172437299</td>\n",
       "      <td>151.000</td>\n",
       "      <td>0.000</td>\n",
       "      <td>C315826176</td>\n",
       "      <td>0.00</td>\n",
       "      <td>0.000</td>\n",
       "      <td>1</td>\n",
       "      <td>0</td>\n",
       "    </tr>\n",
       "    <tr>\n",
       "      <th>1796323</th>\n",
       "      <td>162</td>\n",
       "      <td>CASH_OUT</td>\n",
       "      <td>4501.300</td>\n",
       "      <td>C790340353</td>\n",
       "      <td>151.000</td>\n",
       "      <td>0.000</td>\n",
       "      <td>C517676411</td>\n",
       "      <td>386163.34</td>\n",
       "      <td>386314.340</td>\n",
       "      <td>1</td>\n",
       "      <td>0</td>\n",
       "    </tr>\n",
       "    <tr>\n",
       "      <th>2</th>\n",
       "      <td>1</td>\n",
       "      <td>TRANSFER</td>\n",
       "      <td>4501.300</td>\n",
       "      <td>C1305486145</td>\n",
       "      <td>181.000</td>\n",
       "      <td>0.000</td>\n",
       "      <td>C553264065</td>\n",
       "      <td>0.00</td>\n",
       "      <td>0.000</td>\n",
       "      <td>1</td>\n",
       "      <td>0</td>\n",
       "    </tr>\n",
       "  </tbody>\n",
       "</table>\n",
       "<p>8213 rows × 11 columns</p>\n",
       "</div>"
      ],
      "text/plain": [
       "         step      type      amount     nameOrig  oldbalanceOrg  \\\n",
       "5188057   367  CASH_OUT  365423.309  C1210833971     435867.160   \n",
       "5990227   416  CASH_OUT  365423.309  C2110305720    1822508.289   \n",
       "5990225   416  CASH_OUT  365423.309   C246726057    1822508.289   \n",
       "5990224   416  TRANSFER  365423.309   C298387535    1822508.289   \n",
       "5988262   415  CASH_OUT  365423.309  C2137951962    1675153.280   \n",
       "...       ...       ...         ...          ...            ...   \n",
       "6002113   428  CASH_OUT    4501.300  C1838531308       3037.670   \n",
       "6002112   428  TRANSFER    4501.300  C1408814433       3037.670   \n",
       "1796322   162  TRANSFER    4501.300  C1172437299        151.000   \n",
       "1796323   162  CASH_OUT    4501.300   C790340353        151.000   \n",
       "2           1  TRANSFER    4501.300  C1305486145        181.000   \n",
       "\n",
       "         newbalanceOrig     nameDest  oldbalanceDest  newbalanceDest  isFraud  \\\n",
       "5188057           0.000   C363013236       186826.40      622693.550        1   \n",
       "5990227           0.000   C225008798       523626.59     3194869.671        1   \n",
       "5990225           0.000  C1786144514      2423749.18     3194869.671        1   \n",
       "5990224     1970344.793   C662194461            0.00           0.000        1   \n",
       "5988262           0.000   C309573869        12832.26     1687985.530        1   \n",
       "...                 ...          ...             ...             ...      ...   \n",
       "6002113           0.000   C505532836       800854.71      803892.380        1   \n",
       "6002112           0.000   C944070846            0.00           0.000        1   \n",
       "1796322           0.000   C315826176            0.00           0.000        1   \n",
       "1796323           0.000   C517676411       386163.34      386314.340        1   \n",
       "2                 0.000   C553264065            0.00           0.000        1   \n",
       "\n",
       "         isFlaggedFraud  \n",
       "5188057               0  \n",
       "5990227               0  \n",
       "5990225               0  \n",
       "5990224               0  \n",
       "5988262               0  \n",
       "...                 ...  \n",
       "6002113               0  \n",
       "6002112               0  \n",
       "1796322               0  \n",
       "1796323               0  \n",
       "2                     0  \n",
       "\n",
       "[8213 rows x 11 columns]"
      ]
     },
     "execution_count": 121,
     "metadata": {},
     "output_type": "execute_result"
    }
   ],
   "source": [
    "fraud_amount= df[df.isFraud==1]\n",
    "fraud_amount=fraud_amount.sort_values(by=['amount'],ascending=False)\n",
    "fraud_amount"
   ]
  },
  {
   "cell_type": "code",
   "execution_count": 122,
   "id": "4a3290ae-6a26-4199-b4f3-0b91546c5045",
   "metadata": {},
   "outputs": [
    {
     "data": {
      "text/plain": [
       "<Axes: ylabel='Frequency'>"
      ]
     },
     "execution_count": 122,
     "metadata": {},
     "output_type": "execute_result"
    },
    {
     "data": {
      "image/png": "[encoded data removed]",
      "text/plain": [
       "<Figure size 1200x600 with 1 Axes>"
      ]
     },
     "metadata": {},
     "output_type": "display_data"
    }
   ],
   "source": [
    "fraud_amount.amount.plot(kind='hist', bins=15, figsize=(12,6), facecolor='orange',edgecolor='black')"
   ]
  },
  {
   "cell_type": "markdown",
   "id": "d9e558ba-ac42-4892-92b3-50ef6f9091c9",
   "metadata": {},
   "source": [
    "We've found that fraud amount transaction ranges between 1.3-3.6 lakh\n",
    "\n",
    "Now, we can see that among them most occured were around 340,000-360,000 (3.4-3.6 lakh)\n"
   ]
  },
  {
   "cell_type": "markdown",
   "id": "d8b4b947-f248-46ce-9166-d0d423d61143",
   "metadata": {},
   "source": [
    "# NameDESt"
   ]
  },
  {
   "cell_type": "code",
   "execution_count": 126,
   "id": "c074335c-2558-4c6c-82f4-ad66b6c3d8c0",
   "metadata": {},
   "outputs": [],
   "source": [
    "fraud_names=df.nameDest.value_counts()"
   ]
  },
  {
   "cell_type": "code",
   "execution_count": 127,
   "id": "8a5d9508-571f-41d4-9f04-8d864b5df6f6",
   "metadata": {},
   "outputs": [],
   "source": [
    "fraud_names=fraud_names[:11]"
   ]
  },
  {
   "cell_type": "code",
   "execution_count": 128,
   "id": "2685e713-2ebe-4a51-93e4-409abe318698",
   "metadata": {},
   "outputs": [
    {
     "data": {
      "text/plain": [
       "nameDest\n",
       "C1286084959    113\n",
       "C985934102     109\n",
       "C665576141     105\n",
       "C2083562754    102\n",
       "C248609774     101\n",
       "C1590550415    101\n",
       "C451111351      99\n",
       "C1789550256     99\n",
       "C1360767589     98\n",
       "C1023714065     97\n",
       "C977993101      96\n",
       "Name: count, dtype: int64"
      ]
     },
     "execution_count": 128,
     "metadata": {},
     "output_type": "execute_result"
    }
   ],
   "source": [
    "fraud_names"
   ]
  },
  {
   "cell_type": "code",
   "execution_count": 129,
   "id": "010cbf58-a065-4018-8d27-c7bd20febd1f",
   "metadata": {},
   "outputs": [
    {
     "data": {
      "text/plain": [
       "<Axes: xlabel='nameDest'>"
      ]
     },
     "execution_count": 129,
     "metadata": {},
     "output_type": "execute_result"
    },
    {
     "data": {
      "image/png": "[encoded data removed]",
      "text/plain": [
       "<Figure size 640x480 with 1 Axes>"
      ]
     },
     "metadata": {},
     "output_type": "display_data"
    }
   ],
   "source": [
    "fraud_names.plot(kind='bar')"
   ]
  },
  {
   "cell_type": "code",
   "execution_count": 138,
   "id": "a590e32e-f4c7-4e2b-835a-7b978bbd2838",
   "metadata": {},
   "outputs": [
    {
     "data": {
      "text/plain": [
       "<Figure size 1200x700 with 0 Axes>"
      ]
     },
     "metadata": {},
     "output_type": "display_data"
    },
    {
     "data": {
      "image/png": "[encoded data removed]",
      "text/plain": [
       "<Figure size 1071.43x500 with 1 Axes>"
      ]
     },
     "metadata": {},
     "output_type": "display_data"
    }
   ],
   "source": [
    "sns.displot(x=df.step,bins=40,aspect=15/7)\n",
    "plt.show()"
   ]
  },
  {
   "cell_type": "code",
   "execution_count": 142,
   "id": "fdc2d1bd-0692-4732-9a1c-dfc7c049aebf",
   "metadata": {},
   "outputs": [
    {
     "data": {
      "text/html": [
       "<div>\n",
       "<style scoped>\n",
       "    .dataframe tbody tr th:only-of-type {\n",
       "        vertical-align: middle;\n",
       "    }\n",
       "\n",
       "    .dataframe tbody tr th {\n",
       "        vertical-align: top;\n",
       "    }\n",
       "\n",
       "    .dataframe thead th {\n",
       "        text-align: right;\n",
       "    }\n",
       "</style>\n",
       "<table border=\"1\" class=\"dataframe\">\n",
       "  <thead>\n",
       "    <tr style=\"text-align: right;\">\n",
       "      <th></th>\n",
       "      <th>step</th>\n",
       "      <th>amount</th>\n",
       "      <th>oldbalanceOrg</th>\n",
       "      <th>newbalanceOrig</th>\n",
       "      <th>oldbalanceDest</th>\n",
       "      <th>newbalanceDest</th>\n",
       "      <th>isFraud</th>\n",
       "      <th>isFlaggedFraud</th>\n",
       "    </tr>\n",
       "  </thead>\n",
       "  <tbody>\n",
       "    <tr>\n",
       "      <th>step</th>\n",
       "      <td>1.000000</td>\n",
       "      <td>-0.007307</td>\n",
       "      <td>-0.006460</td>\n",
       "      <td>-0.006468</td>\n",
       "      <td>0.002949</td>\n",
       "      <td>-0.004029</td>\n",
       "      <td>0.031578</td>\n",
       "      <td>0.003277</td>\n",
       "    </tr>\n",
       "    <tr>\n",
       "      <th>amount</th>\n",
       "      <td>-0.007307</td>\n",
       "      <td>1.000000</td>\n",
       "      <td>0.090592</td>\n",
       "      <td>0.105925</td>\n",
       "      <td>0.405745</td>\n",
       "      <td>0.479862</td>\n",
       "      <td>0.039620</td>\n",
       "      <td>0.003092</td>\n",
       "    </tr>\n",
       "    <tr>\n",
       "      <th>oldbalanceOrg</th>\n",
       "      <td>-0.006460</td>\n",
       "      <td>0.090592</td>\n",
       "      <td>1.000000</td>\n",
       "      <td>0.988006</td>\n",
       "      <td>0.191574</td>\n",
       "      <td>0.115405</td>\n",
       "      <td>0.030947</td>\n",
       "      <td>0.003841</td>\n",
       "    </tr>\n",
       "    <tr>\n",
       "      <th>newbalanceOrig</th>\n",
       "      <td>-0.006468</td>\n",
       "      <td>0.105925</td>\n",
       "      <td>0.988006</td>\n",
       "      <td>1.000000</td>\n",
       "      <td>0.195563</td>\n",
       "      <td>0.108278</td>\n",
       "      <td>-0.014391</td>\n",
       "      <td>0.003795</td>\n",
       "    </tr>\n",
       "    <tr>\n",
       "      <th>oldbalanceDest</th>\n",
       "      <td>0.002949</td>\n",
       "      <td>0.405745</td>\n",
       "      <td>0.191574</td>\n",
       "      <td>0.195563</td>\n",
       "      <td>1.000000</td>\n",
       "      <td>0.970051</td>\n",
       "      <td>-0.012913</td>\n",
       "      <td>-0.001079</td>\n",
       "    </tr>\n",
       "    <tr>\n",
       "      <th>newbalanceDest</th>\n",
       "      <td>-0.004029</td>\n",
       "      <td>0.479862</td>\n",
       "      <td>0.115405</td>\n",
       "      <td>0.108278</td>\n",
       "      <td>0.970051</td>\n",
       "      <td>1.000000</td>\n",
       "      <td>-0.000797</td>\n",
       "      <td>-0.001130</td>\n",
       "    </tr>\n",
       "    <tr>\n",
       "      <th>isFraud</th>\n",
       "      <td>0.031578</td>\n",
       "      <td>0.039620</td>\n",
       "      <td>0.030947</td>\n",
       "      <td>-0.014391</td>\n",
       "      <td>-0.012913</td>\n",
       "      <td>-0.000797</td>\n",
       "      <td>1.000000</td>\n",
       "      <td>0.044109</td>\n",
       "    </tr>\n",
       "    <tr>\n",
       "      <th>isFlaggedFraud</th>\n",
       "      <td>0.003277</td>\n",
       "      <td>0.003092</td>\n",
       "      <td>0.003841</td>\n",
       "      <td>0.003795</td>\n",
       "      <td>-0.001079</td>\n",
       "      <td>-0.001130</td>\n",
       "      <td>0.044109</td>\n",
       "      <td>1.000000</td>\n",
       "    </tr>\n",
       "  </tbody>\n",
       "</table>\n",
       "</div>"
      ],
      "text/plain": [
       "                    step    amount  oldbalanceOrg  newbalanceOrig  \\\n",
       "step            1.000000 -0.007307      -0.006460       -0.006468   \n",
       "amount         -0.007307  1.000000       0.090592        0.105925   \n",
       "oldbalanceOrg  -0.006460  0.090592       1.000000        0.988006   \n",
       "newbalanceOrig -0.006468  0.105925       0.988006        1.000000   \n",
       "oldbalanceDest  0.002949  0.405745       0.191574        0.195563   \n",
       "newbalanceDest -0.004029  0.479862       0.115405        0.108278   \n",
       "isFraud         0.031578  0.039620       0.030947       -0.014391   \n",
       "isFlaggedFraud  0.003277  0.003092       0.003841        0.003795   \n",
       "\n",
       "                oldbalanceDest  newbalanceDest   isFraud  isFlaggedFraud  \n",
       "step                  0.002949       -0.004029  0.031578        0.003277  \n",
       "amount                0.405745        0.479862  0.039620        0.003092  \n",
       "oldbalanceOrg         0.191574        0.115405  0.030947        0.003841  \n",
       "newbalanceOrig        0.195563        0.108278 -0.014391        0.003795  \n",
       "oldbalanceDest        1.000000        0.970051 -0.012913       -0.001079  \n",
       "newbalanceDest        0.970051        1.000000 -0.000797       -0.001130  \n",
       "isFraud              -0.012913       -0.000797  1.000000        0.044109  \n",
       "isFlaggedFraud       -0.001079       -0.001130  0.044109        1.000000  "
      ]
     },
     "execution_count": 142,
     "metadata": {},
     "output_type": "execute_result"
    }
   ],
   "source": [
    "corr=df.corr(method='pearson',numeric_only=True)\n",
    "corr"
   ]
  },
  {
   "cell_type": "code",
   "execution_count": 151,
   "id": "6cf51d6c-27eb-4d10-8a28-a8a006eacea2",
   "metadata": {},
   "outputs": [
    {
     "data": {
      "text/plain": [
       "<Axes: >"
      ]
     },
     "execution_count": 151,
     "metadata": {},
     "output_type": "execute_result"
    },
    {
     "data": {
      "image/png": "[encoded data removed]",
      "text/plain": [
       "<Figure size 640x480 with 2 Axes>"
      ]
     },
     "metadata": {},
     "output_type": "display_data"
    }
   ],
   "source": [
    "sns.heatmap(corr,annot=True,cmap='coolwarm')"
   ]
  },
  {
   "cell_type": "markdown",
   "id": "c79509b2-e829-4b47-a48a-83a599cc5f19",
   "metadata": {},
   "source": [
    "here is a high correlation between newbalanceOrig and oldbalanceOrg.\n",
    "\n",
    "Also, between newbalanceDest and oldbalanceDest.\n",
    "\n",
    "Apart from that, we have a relatively high correlation between amount and newbalanceDest and amount with oldbalanceDest"
   ]
  },
  {
   "cell_type": "code",
   "execution_count": null,
   "id": "cb4becd5-8b9a-48ff-92ef-4c5e682a9b90",
   "metadata": {},
   "outputs": [],
   "source": [
    "1. What is the fraud percent that has happened in the overall transaction ?¶\n",
    "-> totally there is a 8213 fraud transactions which  are 0.13 % of all transactions"
   ]
  },
  {
   "cell_type": "code",
   "execution_count": null,
   "id": "859217a6-9832-4f48-b733-91a28385e7f9",
   "metadata": {},
   "outputs": [],
   "source": [
    "2. Under which type of transfer payment type fraud has occurred mostly.¶\n",
    "-> Fraud has happened only in cashout and transfer type. 0.183 % fraud happened in total cashout \n",
    " mode type and 0.769 % fraud happened in total transfer mode type"
   ]
  },
  {
   "cell_type": "code",
   "execution_count": null,
   "id": "86d218c1-ce82-4078-a0d1-e88a2de8a2be",
   "metadata": {},
   "outputs": [],
   "source": [
    "3. Were we able to mark the fraud transaction as isFlaggedFraud?¶\n",
    "No, Only 16 records out of 63 lakh records were flagged as fraud which are very less And that\n",
    "constitutes to 0.195 % of the total fraud transactions."
   ]
  },
  {
   "cell_type": "code",
   "execution_count": null,
   "id": "06853d8a-52c1-4960-b550-1ceb53cc57a0",
   "metadata": {},
   "outputs": [],
   "source": [
    "4. What is the percentage of incorrect flagged fraud records?¶\n",
    "-> We have 8197 fraud-transcations records that are flagged incorrectly which constitues that 99.805% of the total fraud records"
   ]
  },
  {
   "cell_type": "code",
   "execution_count": null,
   "id": "61e10558-5204-4c04-955a-6d9d5a071118",
   "metadata": {},
   "outputs": [],
   "source": [
    "5. Were all the isFlaggedFraud records that are marked as fraud is correct?¶\n",
    "-> Yes. All the 16 transactions that are flagged as fraud is actually fraud transactions"
   ]
  },
  {
   "cell_type": "code",
   "execution_count": null,
   "id": "0bceb0a5-125d-43e9-b7ed-547cdeab1f8f",
   "metadata": {},
   "outputs": [],
   "source": [
    "6. At what amount range, fraud has happened?¶\n",
    "The fraud amount transaction ranges between 1.3-3.6 lakh with most occurred in the range 340,000-360,000 (3.4-3.6 lakh)."
   ]
  },
  {
   "cell_type": "markdown",
   "id": "5a9a9f2d-9b6d-4174-95c3-a6673de0357e",
   "metadata": {},
   "source": [
    "# **Conclusions**"
   ]
  },
  {
   "cell_type": "raw",
   "id": "924dd7cf-ac95-48b6-b3c1-ba2a48898b5d",
   "metadata": {},
   "source": [
    "We have large number of records which are incorrectly flagged as 0.\n",
    "Incorrect flagging might have big impact in future if we don't calculate it properly as it might lead to increase in online payment fraud percentage as people relay more on online payment nowadays.\n",
    "The amount range usually fraudsters target is aroung 1-4 lakhs which is certainly a large sum.\n",
    "Fraudsters focus during cashout and transfer mode type transfer.\n",
    "Fraud is less likely/rare to happen during payment mode transfer though people are using online payment more.\n",
    "There is not much information taken from oldbalanceOrg,newbalanceOrig,nameDest,oldbalanceDest and newbalanceDest columns though they had good positive correlation score"
   ]
  },
  {
   "cell_type": "code",
   "execution_count": 157,
   "id": "a5e6e92c-909a-4ec1-aff2-c6ef319f2d21",
   "metadata": {},
   "outputs": [
    {
     "name": "stdout",
     "output_type": "stream",
     "text": [
      "<class 'pandas.core.frame.DataFrame'>\n",
      "RangeIndex: 6362620 entries, 0 to 6362619\n",
      "Data columns (total 11 columns):\n",
      " #   Column          Dtype  \n",
      "---  ------          -----  \n",
      " 0   step            int64  \n",
      " 1   type            object \n",
      " 2   amount          float64\n",
      " 3   nameOrig        object \n",
      " 4   oldbalanceOrg   float64\n",
      " 5   newbalanceOrig  float64\n",
      " 6   nameDest        object \n",
      " 7   oldbalanceDest  float64\n",
      " 8   newbalanceDest  float64\n",
      " 9   isFraud         int64  \n",
      " 10  isFlaggedFraud  int64  \n",
      "dtypes: float64(5), int64(3), object(3)\n",
      "memory usage: 534.0+ MB\n"
     ]
    }
   ],
   "source": [
    "df.info()"
   ]
  },
  {
   "cell_type": "code",
   "execution_count": null,
   "id": "1bd808ba-6be9-4c6c-8073-4d13d16143bf",
   "metadata": {},
   "outputs": [],
   "source": []
  },
  {
   "cell_type": "code",
   "execution_count": null,
   "id": "14425485-c8ae-4198-8da8-31d80d724726",
   "metadata": {},
   "outputs": [],
   "source": []
  },
  {
   "cell_type": "code",
   "execution_count": null,
   "id": "14960489-b8df-4489-9a5e-6bb4f34cb5bd",
   "metadata": {},
   "outputs": [],
   "source": []
  },
  {
   "cell_type": "code",
   "execution_count": null,
   "id": "64db64e2-a766-485a-b1bd-40f978a8ed47",
   "metadata": {},
   "outputs": [],
   "source": []
  },
  {
   "cell_type": "code",
   "execution_count": null,
   "id": "0ef8822d-65c3-4db5-bb79-d800b0059fa0",
   "metadata": {},
   "outputs": [],
   "source": []
  },
  {
   "cell_type": "code",
   "execution_count": null,
   "id": "7a499a85-8606-4d03-8741-1237f11f65d4",
   "metadata": {},
   "outputs": [],
   "source": []
  },
  {
   "cell_type": "code",
   "execution_count": null,
   "id": "22a27c52-4b0f-40be-9ce9-fa4ecbb4349a",
   "metadata": {},
   "outputs": [],
   "source": []
  },
  {
   "cell_type": "code",
   "execution_count": null,
   "id": "c0036e23-4a93-4b6e-b390-7a51cd328a7b",
   "metadata": {},
   "outputs": [],
   "source": []
  },
  {
   "cell_type": "code",
   "execution_count": null,
   "id": "600aebba-27d2-4a8f-a1bf-9616e1315a10",
   "metadata": {},
   "outputs": [],
   "source": []
  },
  {
   "cell_type": "code",
   "execution_count": null,
   "id": "c1ded8a9-c169-4c20-ba43-88ddaaf3ce9a",
   "metadata": {},
   "outputs": [],
   "source": []
  },
  {
   "cell_type": "code",
   "execution_count": null,
   "id": "42e9e904-f791-4700-9947-87883e6c35f0",
   "metadata": {},
   "outputs": [],
   "source": []
  },
  {
   "cell_type": "code",
   "execution_count": null,
   "id": "e89da5ac-d4c1-4e0d-9d9b-2a2fed2ed5a2",
   "metadata": {},
   "outputs": [],
   "source": []
  },
  {
   "cell_type": "code",
   "execution_count": 153,
   "id": "cd1b2de3-1d0c-4b5f-a7fb-fe00872cb89c",
   "metadata": {},
   "outputs": [
    {
     "data": {
      "text/html": [
       "<div>\n",
       "<style scoped>\n",
       "    .dataframe tbody tr th:only-of-type {\n",
       "        vertical-align: middle;\n",
       "    }\n",
       "\n",
       "    .dataframe tbody tr th {\n",
       "        vertical-align: top;\n",
       "    }\n",
       "\n",
       "    .dataframe thead th {\n",
       "        text-align: right;\n",
       "    }\n",
       "</style>\n",
       "<table border=\"1\" class=\"dataframe\">\n",
       "  <thead>\n",
       "    <tr style=\"text-align: right;\">\n",
       "      <th>isFraud</th>\n",
       "      <th>0</th>\n",
       "      <th>1</th>\n",
       "    </tr>\n",
       "    <tr>\n",
       "      <th>type</th>\n",
       "      <th></th>\n",
       "      <th></th>\n",
       "    </tr>\n",
       "  </thead>\n",
       "  <tbody>\n",
       "    <tr>\n",
       "      <th>CASH_IN</th>\n",
       "      <td>1399284</td>\n",
       "      <td>0</td>\n",
       "    </tr>\n",
       "    <tr>\n",
       "      <th>CASH_OUT</th>\n",
       "      <td>2233384</td>\n",
       "      <td>4116</td>\n",
       "    </tr>\n",
       "    <tr>\n",
       "      <th>DEBIT</th>\n",
       "      <td>41432</td>\n",
       "      <td>0</td>\n",
       "    </tr>\n",
       "    <tr>\n",
       "      <th>PAYMENT</th>\n",
       "      <td>2151495</td>\n",
       "      <td>0</td>\n",
       "    </tr>\n",
       "    <tr>\n",
       "      <th>TRANSFER</th>\n",
       "      <td>528812</td>\n",
       "      <td>4097</td>\n",
       "    </tr>\n",
       "  </tbody>\n",
       "</table>\n",
       "</div>"
      ],
      "text/plain": [
       "isFraud         0     1\n",
       "type                   \n",
       "CASH_IN   1399284     0\n",
       "CASH_OUT  2233384  4116\n",
       "DEBIT       41432     0\n",
       "PAYMENT   2151495     0\n",
       "TRANSFER   528812  4097"
      ]
     },
     "execution_count": 153,
     "metadata": {},
     "output_type": "execute_result"
    }
   ],
   "source": [
    "crossTabResult"
   ]
  },
  {
   "cell_type": "code",
   "execution_count": 156,
   "id": "56d62a41-d1e0-4812-a9b1-5f2da711222a",
   "metadata": {},
   "outputs": [
    {
     "data": {
      "text/html": [
       "<div>\n",
       "<style scoped>\n",
       "    .dataframe tbody tr th:only-of-type {\n",
       "        vertical-align: middle;\n",
       "    }\n",
       "\n",
       "    .dataframe tbody tr th {\n",
       "        vertical-align: top;\n",
       "    }\n",
       "\n",
       "    .dataframe thead th {\n",
       "        text-align: right;\n",
       "    }\n",
       "</style>\n",
       "<table border=\"1\" class=\"dataframe\">\n",
       "  <thead>\n",
       "    <tr style=\"text-align: right;\">\n",
       "      <th></th>\n",
       "      <th>step</th>\n",
       "      <th>type</th>\n",
       "      <th>amount</th>\n",
       "      <th>nameOrig</th>\n",
       "      <th>oldbalanceOrg</th>\n",
       "      <th>newbalanceOrig</th>\n",
       "      <th>nameDest</th>\n",
       "      <th>oldbalanceDest</th>\n",
       "      <th>newbalanceDest</th>\n",
       "      <th>isFraud</th>\n",
       "      <th>isFlaggedFraud</th>\n",
       "    </tr>\n",
       "  </thead>\n",
       "  <tbody>\n",
       "    <tr>\n",
       "      <th>2</th>\n",
       "      <td>1</td>\n",
       "      <td>TRANSFER</td>\n",
       "      <td>4501.300</td>\n",
       "      <td>C1305486145</td>\n",
       "      <td>181.000</td>\n",
       "      <td>0.0</td>\n",
       "      <td>C553264065</td>\n",
       "      <td>0.000</td>\n",
       "      <td>0.000</td>\n",
       "      <td>1</td>\n",
       "      <td>0</td>\n",
       "    </tr>\n",
       "    <tr>\n",
       "      <th>3</th>\n",
       "      <td>1</td>\n",
       "      <td>CASH_OUT</td>\n",
       "      <td>4501.300</td>\n",
       "      <td>C840083671</td>\n",
       "      <td>181.000</td>\n",
       "      <td>0.0</td>\n",
       "      <td>C38997010</td>\n",
       "      <td>21182.000</td>\n",
       "      <td>0.000</td>\n",
       "      <td>1</td>\n",
       "      <td>0</td>\n",
       "    </tr>\n",
       "    <tr>\n",
       "      <th>251</th>\n",
       "      <td>1</td>\n",
       "      <td>TRANSFER</td>\n",
       "      <td>4501.300</td>\n",
       "      <td>C1420196421</td>\n",
       "      <td>2806.000</td>\n",
       "      <td>0.0</td>\n",
       "      <td>C972765878</td>\n",
       "      <td>0.000</td>\n",
       "      <td>0.000</td>\n",
       "      <td>1</td>\n",
       "      <td>0</td>\n",
       "    </tr>\n",
       "    <tr>\n",
       "      <th>252</th>\n",
       "      <td>1</td>\n",
       "      <td>CASH_OUT</td>\n",
       "      <td>4501.300</td>\n",
       "      <td>C2101527076</td>\n",
       "      <td>2806.000</td>\n",
       "      <td>0.0</td>\n",
       "      <td>C1007251739</td>\n",
       "      <td>26202.000</td>\n",
       "      <td>0.000</td>\n",
       "      <td>1</td>\n",
       "      <td>0</td>\n",
       "    </tr>\n",
       "    <tr>\n",
       "      <th>680</th>\n",
       "      <td>1</td>\n",
       "      <td>TRANSFER</td>\n",
       "      <td>20128.000</td>\n",
       "      <td>C137533655</td>\n",
       "      <td>20128.000</td>\n",
       "      <td>0.0</td>\n",
       "      <td>C1848415041</td>\n",
       "      <td>0.000</td>\n",
       "      <td>0.000</td>\n",
       "      <td>1</td>\n",
       "      <td>0</td>\n",
       "    </tr>\n",
       "    <tr>\n",
       "      <th>...</th>\n",
       "      <td>...</td>\n",
       "      <td>...</td>\n",
       "      <td>...</td>\n",
       "      <td>...</td>\n",
       "      <td>...</td>\n",
       "      <td>...</td>\n",
       "      <td>...</td>\n",
       "      <td>...</td>\n",
       "      <td>...</td>\n",
       "      <td>...</td>\n",
       "      <td>...</td>\n",
       "    </tr>\n",
       "    <tr>\n",
       "      <th>6362615</th>\n",
       "      <td>743</td>\n",
       "      <td>CASH_OUT</td>\n",
       "      <td>339682.130</td>\n",
       "      <td>C786484425</td>\n",
       "      <td>339682.130</td>\n",
       "      <td>0.0</td>\n",
       "      <td>C776919290</td>\n",
       "      <td>0.000</td>\n",
       "      <td>339682.130</td>\n",
       "      <td>1</td>\n",
       "      <td>0</td>\n",
       "    </tr>\n",
       "    <tr>\n",
       "      <th>6362616</th>\n",
       "      <td>743</td>\n",
       "      <td>TRANSFER</td>\n",
       "      <td>365423.309</td>\n",
       "      <td>C1529008245</td>\n",
       "      <td>1822508.289</td>\n",
       "      <td>0.0</td>\n",
       "      <td>C1881841831</td>\n",
       "      <td>0.000</td>\n",
       "      <td>0.000</td>\n",
       "      <td>1</td>\n",
       "      <td>0</td>\n",
       "    </tr>\n",
       "    <tr>\n",
       "      <th>6362617</th>\n",
       "      <td>743</td>\n",
       "      <td>CASH_OUT</td>\n",
       "      <td>365423.309</td>\n",
       "      <td>C1162922333</td>\n",
       "      <td>1822508.289</td>\n",
       "      <td>0.0</td>\n",
       "      <td>C1365125890</td>\n",
       "      <td>68488.840</td>\n",
       "      <td>3194869.671</td>\n",
       "      <td>1</td>\n",
       "      <td>0</td>\n",
       "    </tr>\n",
       "    <tr>\n",
       "      <th>6362618</th>\n",
       "      <td>743</td>\n",
       "      <td>TRANSFER</td>\n",
       "      <td>365423.309</td>\n",
       "      <td>C1685995037</td>\n",
       "      <td>850002.520</td>\n",
       "      <td>0.0</td>\n",
       "      <td>C2080388513</td>\n",
       "      <td>0.000</td>\n",
       "      <td>0.000</td>\n",
       "      <td>1</td>\n",
       "      <td>0</td>\n",
       "    </tr>\n",
       "    <tr>\n",
       "      <th>6362619</th>\n",
       "      <td>743</td>\n",
       "      <td>CASH_OUT</td>\n",
       "      <td>365423.309</td>\n",
       "      <td>C1280323807</td>\n",
       "      <td>850002.520</td>\n",
       "      <td>0.0</td>\n",
       "      <td>C873221189</td>\n",
       "      <td>2914266.669</td>\n",
       "      <td>3194869.671</td>\n",
       "      <td>1</td>\n",
       "      <td>0</td>\n",
       "    </tr>\n",
       "  </tbody>\n",
       "</table>\n",
       "<p>8197 rows × 11 columns</p>\n",
       "</div>"
      ],
      "text/plain": [
       "         step      type      amount     nameOrig  oldbalanceOrg  \\\n",
       "2           1  TRANSFER    4501.300  C1305486145        181.000   \n",
       "3           1  CASH_OUT    4501.300   C840083671        181.000   \n",
       "251         1  TRANSFER    4501.300  C1420196421       2806.000   \n",
       "252         1  CASH_OUT    4501.300  C2101527076       2806.000   \n",
       "680         1  TRANSFER   20128.000   C137533655      20128.000   \n",
       "...       ...       ...         ...          ...            ...   \n",
       "6362615   743  CASH_OUT  339682.130   C786484425     339682.130   \n",
       "6362616   743  TRANSFER  365423.309  C1529008245    1822508.289   \n",
       "6362617   743  CASH_OUT  365423.309  C1162922333    1822508.289   \n",
       "6362618   743  TRANSFER  365423.309  C1685995037     850002.520   \n",
       "6362619   743  CASH_OUT  365423.309  C1280323807     850002.520   \n",
       "\n",
       "         newbalanceOrig     nameDest  oldbalanceDest  newbalanceDest  isFraud  \\\n",
       "2                   0.0   C553264065           0.000           0.000        1   \n",
       "3                   0.0    C38997010       21182.000           0.000        1   \n",
       "251                 0.0   C972765878           0.000           0.000        1   \n",
       "252                 0.0  C1007251739       26202.000           0.000        1   \n",
       "680                 0.0  C1848415041           0.000           0.000        1   \n",
       "...                 ...          ...             ...             ...      ...   \n",
       "6362615             0.0   C776919290           0.000      339682.130        1   \n",
       "6362616             0.0  C1881841831           0.000           0.000        1   \n",
       "6362617             0.0  C1365125890       68488.840     3194869.671        1   \n",
       "6362618             0.0  C2080388513           0.000           0.000        1   \n",
       "6362619             0.0   C873221189     2914266.669     3194869.671        1   \n",
       "\n",
       "         isFlaggedFraud  \n",
       "2                     0  \n",
       "3                     0  \n",
       "251                   0  \n",
       "252                   0  \n",
       "680                   0  \n",
       "...                 ...  \n",
       "6362615               0  \n",
       "6362616               0  \n",
       "6362617               0  \n",
       "6362618               0  \n",
       "6362619               0  \n",
       "\n",
       "[8197 rows x 11 columns]"
      ]
     },
     "execution_count": 156,
     "metadata": {},
     "output_type": "execute_result"
    }
   ],
   "source": [
    "df[(df['isFraud']==1) & (df['isFlaggedFraud']==0)]"
   ]
  },
  {
   "cell_type": "code",
   "execution_count": null,
   "id": "c5495d2d-0caf-4942-a98d-7b99164a3269",
   "metadata": {},
   "outputs": [],
   "source": []
  }
 ],
 "metadata": {
  "kernelspec": {
   "display_name": "Python 3 (ipykernel)",
   "language": "python",
   "name": "python3"
  },
  "language_info": {
   "codemirror_mode": {
    "name": "ipython",
    "version": 3
   },
   "file_extension": ".py",
   "mimetype": "text/x-python",
   "name": "python",
   "nbconvert_exporter": "python",
   "pygments_lexer": "ipython3",
   "version": "3.11.4"
  }
 },
 "nbformat": 4,
 "nbformat_minor": 5
}
